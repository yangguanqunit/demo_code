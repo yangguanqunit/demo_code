{
 "cells": [
  {
   "cell_type": "markdown",
   "id": "5e69cd6a-c091-4b5f-ab68-3486ed729504",
   "metadata": {
    "tags": []
   },
   "source": [
    "# **一个WGAN算法的简单实现**\n",
    "## **算法概述**\n",
    "- 一种采用了生成器和判别器进行对抗式训练的算法\n",
    "    - 生成器模型用于从一个高斯分布采样恢复到一张生成图片的过程\n",
    "    - 判别器模型用于判别输入的生成图片和真实图片\n",
    "- 使用了Wasserstein Distance作为生成器和判别器的loss以提高其鲁棒性\n",
    "\n",
    "论文链接：*https://docs.popo.netease.com/docs/dc6b014dafb241eeb8bd3c7ad382d4ff*"
   ]
  },
  {
   "cell_type": "code",
   "execution_count": 1,
   "id": "47d9ffa1-aa3e-4a3d-8d92-107ee5d7aee3",
   "metadata": {},
   "outputs": [],
   "source": [
    "import os,sys\n",
    "import time\n",
    "import numpy as np\n",
    "import torch\n",
    "import torch.nn as nn\n",
    "import torch.nn.functional as F\n",
    "import torch.autograd as autograd\n",
    "import torch.optim as optim\n",
    "from torchsummary import summary"
   ]
  },
  {
   "cell_type": "code",
   "execution_count": 2,
   "id": "b18b5439-127b-47ee-a61b-7b24efaa4057",
   "metadata": {},
   "outputs": [],
   "source": [
    "device = 0 if torch.cuda.is_available() else \"cpu\"\n",
    "device = \"cpu\""
   ]
  },
  {
   "cell_type": "code",
   "execution_count": 3,
   "id": "9e9b73d2-f933-41de-9ba0-e398121a8732",
   "metadata": {},
   "outputs": [],
   "source": [
    "DIM = 64\n",
    "BATCH_SIZE = 50\n",
    "CRITIC_ITERS = 5\n",
    "LAMBDA = 5\n",
    "ITERS = 200000\n",
    "OUTPUT_DIM = 784\n",
    "\n",
    "# dataset_name = \"mnist\"\n",
    "dataset_name = \"fashion_mnist\" # 一个时装数据集，以灰度图的形式保存了各种时装的照片"
   ]
  },
  {
   "cell_type": "code",
   "execution_count": 4,
   "id": "566a5c83-6c6a-4ba1-802e-788ffe981168",
   "metadata": {
    "tags": []
   },
   "outputs": [
    {
     "name": "stderr",
     "output_type": "stream",
     "text": [
      "Found cached dataset fashion_mnist (/home/ygq/.cache/huggingface/datasets/fashion_mnist/fashion_mnist/1.0.0/8d6c32399aa01613d96e2cbc9b13638f359ef62bb33612b077b4c247f6ef99c1)\n"
     ]
    },
    {
     "data": {
      "application/vnd.jupyter.widget-view+json": {
       "model_id": "8a77d7d2b52240eba266185c6d2caf9b",
       "version_major": 2,
       "version_minor": 0
      },
      "text/plain": [
       "  0%|          | 0/2 [00:00<?, ?it/s]"
      ]
     },
     "metadata": {},
     "output_type": "display_data"
    }
   ],
   "source": [
    "import torchvision\n",
    "from torchvision import transforms\n",
    "from torch.utils.data import DataLoader\n",
    "from torchvision.transforms import Compose\n",
    "from datasets import load_dataset\n",
    "from torchvision import datasets\n",
    "\n",
    "transformed_dataset = dict()\n",
    "\n",
    "def transforms_(examples):\n",
    "    examples[\"pixel_values\"] = [transform(image.convert(\"L\")) for image in examples[\"image\"]]\n",
    "    del examples[\"image\"]\n",
    "    return examples\n",
    "\n",
    "try:\n",
    "    dataset = load_dataset(dataset_name)\n",
    "except Exception as e:\n",
    "    print(e)\n",
    "    \n",
    "transform = Compose([\n",
    "transforms.RandomHorizontalFlip(),\n",
    "transforms.ToTensor(),\n",
    "])\n",
    "transformed_dataset = dataset.with_transform(transforms_).remove_columns(\"label\")\n",
    "    \n",
    "train_loader = DataLoader(transformed_dataset['train'], batch_size=BATCH_SIZE, shuffle=True)"
   ]
  },
  {
   "cell_type": "code",
   "execution_count": 5,
   "id": "0f704cc8-b47e-449a-9e6a-de24d5b7db75",
   "metadata": {},
   "outputs": [
    {
     "data": {
      "image/png": "[encoded data removed]",
      "text/plain": [
       "<Figure size 640x480 with 1 Axes>"
      ]
     },
     "metadata": {},
     "output_type": "display_data"
    }
   ],
   "source": [
    "import matplotlib.pyplot as plt\n",
    "sample = next(iter(train_loader))['pixel_values'].data.numpy()\n",
    "plt.imshow(sample[0,0,:,:], cmap=\"gray\")\n",
    "plt.show()"
   ]
  },
  {
   "cell_type": "code",
   "execution_count": 6,
   "id": "5515abba-3e95-4dc8-ba12-6d2d2ebbade6",
   "metadata": {},
   "outputs": [
    {
     "name": "stdout",
     "output_type": "stream",
     "text": [
      "----------------------------------------------------------------\n",
      "        Layer (type)               Output Shape         Param #\n",
      "================================================================\n",
      "            Linear-1                 [-1, 4096]         528,384\n",
      "              ReLU-2                 [-1, 4096]               0\n",
      "   ConvTranspose2d-3            [-1, 128, 8, 8]         819,328\n",
      "              ReLU-4            [-1, 128, 8, 8]               0\n",
      "   ConvTranspose2d-5           [-1, 64, 11, 11]         204,864\n",
      "              ReLU-6           [-1, 64, 11, 11]               0\n",
      "   ConvTranspose2d-7            [-1, 1, 28, 28]           4,097\n",
      "           Sigmoid-8            [-1, 1, 28, 28]               0\n",
      "================================================================\n",
      "Total params: 1,556,673\n",
      "Trainable params: 1,556,673\n",
      "Non-trainable params: 0\n",
      "----------------------------------------------------------------\n",
      "Input size (MB): 0.00\n",
      "Forward/backward pass size (MB): 0.32\n",
      "Params size (MB): 5.94\n",
      "Estimated Total Size (MB): 6.26\n",
      "----------------------------------------------------------------\n"
     ]
    }
   ],
   "source": [
    "#构建生成器模型\n",
    "class Generator(nn.Module):\n",
    "    \n",
    "    def __init__(self):\n",
    "        super(Generator, self).__init__()\n",
    "        \n",
    "        self.preprocess = nn.Sequential(\n",
    "            nn.Linear(128, 4*4*4*DIM),\n",
    "            nn.ReLU(True),\n",
    "        )\n",
    "        self.block1 = nn.Sequential(\n",
    "            nn.ConvTranspose2d(4*DIM, 2*DIM, 5),\n",
    "            nn.ReLU(True),\n",
    "        )\n",
    "        self.block2 = nn.Sequential(\n",
    "            nn.ConvTranspose2d(2*DIM, DIM, 5),\n",
    "            nn.ReLU(True),\n",
    "        )\n",
    "        self.deconv_out = nn.ConvTranspose2d(DIM, 1, 8, stride=2)\n",
    "        self.sigmoid = nn.Sigmoid()\n",
    "        \n",
    "    def forward(self, input):\n",
    "        output = self.preprocess(input)\n",
    "        output = output.view(-1, 4*DIM, 4 , 4)\n",
    "        output = self.block1(output)\n",
    "        # output = output[:, :, :7, :7]\n",
    "        # 改成插值法进行特征裁剪效果差不多\n",
    "        output = F.interpolate(output,[7,7])\n",
    "        output = self.block2(output)\n",
    "        output = self.deconv_out(output)\n",
    "        output = self.sigmoid(output)\n",
    "        return output.view(-1, OUTPUT_DIM)\n",
    "    \n",
    "generator = Generator().to(device)\n",
    "summary(generator,(128,), device=device)"
   ]
  },
  {
   "cell_type": "code",
   "execution_count": 7,
   "id": "4dfba3b7-b0bd-4c32-acfe-793c127557f6",
   "metadata": {},
   "outputs": [
    {
     "name": "stdout",
     "output_type": "stream",
     "text": [
      "----------------------------------------------------------------\n",
      "        Layer (type)               Output Shape         Param #\n",
      "================================================================\n",
      "            Conv2d-1           [-1, 64, 14, 14]           1,664\n",
      "              ReLU-2           [-1, 64, 14, 14]               0\n",
      "            Conv2d-3            [-1, 128, 7, 7]         204,928\n",
      "              ReLU-4            [-1, 128, 7, 7]               0\n",
      "            Conv2d-5            [-1, 256, 4, 4]         819,456\n",
      "              ReLU-6            [-1, 256, 4, 4]               0\n",
      "            Linear-7                    [-1, 1]           4,097\n",
      "================================================================\n",
      "Total params: 1,030,145\n",
      "Trainable params: 1,030,145\n",
      "Non-trainable params: 0\n",
      "----------------------------------------------------------------\n",
      "Input size (MB): 0.00\n",
      "Forward/backward pass size (MB): 0.35\n",
      "Params size (MB): 3.93\n",
      "Estimated Total Size (MB): 4.28\n",
      "----------------------------------------------------------------\n"
     ]
    }
   ],
   "source": [
    "#构建判别器模型\n",
    "class Discriminator(nn.Module):\n",
    "    def __init__(self):\n",
    "        super(Discriminator, self).__init__()\n",
    "        self.main = nn.Sequential(\n",
    "            nn.Conv2d(1, DIM, 5, stride=2, padding=2),\n",
    "            nn.ReLU(True),\n",
    "            nn.Conv2d(DIM, 2*DIM, 5, stride=2, padding=2),\n",
    "            nn.ReLU(True),\n",
    "            nn.Conv2d(2*DIM, 4*DIM, 5, stride=2, padding=2),\n",
    "            nn.ReLU(True),\n",
    "        )\n",
    "        self.output = nn.Linear(4*4*4*DIM, 1)\n",
    "    \n",
    "    def forward(self, input):\n",
    "        input = input.view(-1, 1, 28, 28)\n",
    "        out = self.main(input)\n",
    "        out = out.view(-1,4*4*4*DIM)\n",
    "        out = self.output(out)\n",
    "        return out.view(-1)\n",
    "\n",
    "discriminator = Discriminator().to(device)\n",
    "summary(discriminator, (1,784),device=device)\n"
   ]
  },
  {
   "cell_type": "code",
   "execution_count": 8,
   "id": "f4c75036-cec4-422c-8ae2-475bc1e58e9b",
   "metadata": {},
   "outputs": [],
   "source": [
    "import numpy as np\n",
    "import matplotlib.pyplot as plt\n",
    "def generate_image(frame, net):\n",
    "    noise = torch.randn(1, 128).to(device)\n",
    "    with torch.no_grad():\n",
    "        sample = net(noise)\n",
    "    sample = sample.view(1, 28, 28).squeeze(0)\n",
    "    sample = sample.cpu().data.numpy()\n",
    "\n",
    "    plt.imshow(sample, cmap='gray')\n",
    "    plt.show()\n",
    "\n",
    "    \n",
    "def calc_gradient_penalty(netD, real_data, fake_data):\n",
    "    alpha = torch.rand(BATCH_SIZE, 1)\n",
    "    alpha = alpha.expand(real_data.size()).to(device)\n",
    "    interpolates = alpha * real_data + (1-alpha) * fake_data\n",
    "    interpolates.requires_grad = True\n",
    "    disc_interpolates = netD(interpolates)\n",
    "    gradients = autograd.grad(disc_interpolates, interpolates, \n",
    "                             grad_outputs=torch.ones(disc_interpolates.size()).to(device),\n",
    "                             create_graph=True, retain_graph=True, only_inputs=True)[0]\n",
    "    \n",
    "    gradient_penalty = ((gradients.norm(2, dim=1) - 1) ** 2).mean() * LAMBDA\n",
    "    return gradient_penalty"
   ]
  },
  {
   "cell_type": "code",
   "execution_count": null,
   "id": "426a0997-3968-42bc-97dc-c1977992da39",
   "metadata": {
    "scrolled": true,
    "tags": []
   },
   "outputs": [
    {
     "name": "stdout",
     "output_type": "stream",
     "text": [
      "G_loss is -11.93985366821289\n",
      "D_loss is -10.102824211120605\n"
     ]
    },
    {
     "data": {
      "image/png": "[encoded data removed]",
      "text/plain": [
       "<Figure size 640x480 with 1 Axes>"
      ]
     },
     "metadata": {},
     "output_type": "display_data"
    },
    {
     "name": "stdout",
     "output_type": "stream",
     "text": [
      "G_loss is -10.242581367492676\n",
      "D_loss is -7.570048809051514\n"
     ]
    },
    {
     "data": {
      "image/png": "[encoded data removed]",
      "text/plain": [
       "<Figure size 640x480 with 1 Axes>"
      ]
     },
     "metadata": {},
     "output_type": "display_data"
    }
   ],
   "source": [
    "netG = Generator().to(device)\n",
    "netD = Discriminator().to(device)\n",
    "\n",
    "optimizerD = optim.RMSprop(netD.parameters(), lr=1e-4)\n",
    "optimizerG = optim.RMSprop(netG.parameters(), lr=1e-4)\n",
    "\n",
    "for iteration in range(ITERS):\n",
    "    netD.train()\n",
    "    for iter_d in range(CRITIC_ITERS):\n",
    "        optimizerD.zero_grad()\n",
    "        real_data = next(iter(train_loader))['pixel_values'].view((-1, 784)).to(device)\n",
    "        # print(real_data['pixel_values'].shape)\n",
    "        D_real = netD(real_data)\n",
    "        D_real = -D_real.mean()\n",
    "        D_real.backward()\n",
    "\n",
    "        noise = torch.randn(BATCH_SIZE, 128).to(device)\n",
    "        with torch.no_grad():\n",
    "            fake_data = netG(noise)\n",
    "        D_fake = netD(fake_data)\n",
    "        D_fake = D_fake.mean()\n",
    "        D_fake.backward()\n",
    "\n",
    "        gradient_penalty = calc_gradient_penalty(netD, real_data.data, fake_data.data)\n",
    "        gradient_penalty.backward()\n",
    "\n",
    "        D_cost = D_fake + D_real + gradient_penalty\n",
    "        Wasserstein_D = D_real - D_fake\n",
    "        optimizerD.step()\n",
    "    optimizerG.zero_grad()\n",
    "    noise = torch.randn(BATCH_SIZE, 128).to(device)\n",
    "    fake = netG(noise)\n",
    "    netD.eval()\n",
    "    G_loss = netD(fake)\n",
    "    G_loss = -G_loss.mean()\n",
    "    G_loss.backward()\n",
    "    optimizerG.step()\n",
    "    \n",
    "    \n",
    "    if iteration % 100 == 99:\n",
    "        print(f\"G_loss is {G_loss.item()}\")\n",
    "        print(f\"D_loss is {D_cost.item()}\")\n",
    "        \n",
    "        generate_image(iteration, netG)"
   ]
  },
  {
   "cell_type": "code",
   "execution_count": 2,
   "id": "b059b499-b91c-4358-8948-c52047cf5ee7",
   "metadata": {},
   "outputs": [
    {
     "name": "stdout",
     "output_type": "stream",
     "text": [
      "4\n"
     ]
    }
   ],
   "source": [
    "x = 10\n",
    "y = 6\n",
    "z = x - y if y==5 else 4\n",
    "print(z)"
   ]
  },
  {
   "cell_type": "code",
   "execution_count": null,
   "id": "7a7aab51-17c4-401c-a014-1219f63e27e3",
   "metadata": {},
   "outputs": [],
   "source": []
  }
 ],
 "metadata": {
  "kernelspec": {
   "display_name": "test",
   "language": "python",
   "name": "test"
  },
  "language_info": {
   "codemirror_mode": {
    "name": "ipython",
    "version": 3
   },
   "file_extension": ".py",
   "mimetype": "text/x-python",
   "name": "python",
   "nbconvert_exporter": "python",
   "pygments_lexer": "ipython3",
   "version": "3.8.15"
  }
 },
 "nbformat": 4,
 "nbformat_minor": 5
}
