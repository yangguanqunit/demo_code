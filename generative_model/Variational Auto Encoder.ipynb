{
 "cells": [
  {
   "cell_type": "markdown",
   "id": "0bcc2496-d318-4b5a-b2ea-521a5ef56540",
   "metadata": {},
   "source": [
    "# **一个VAE算法的简单实现**\n",
    "## **算法概述**\n",
    "- 与传统的AE有相似的过程，图片->编码->图片（生成特指编码->图片的过程）\n",
    "- 与传统AE不同点有下：\n",
    "    - 传统AE中图片->编码产生的编码仅代表一组高维特征，VAE中产生的编码有两组，两组编码分别代表高斯分布的$\\mu$和$\\sigma$\n",
    "    - 传统AE中编码->图片过程是直接从编码到图片的端到端的过程，VAE则是利用一标准高斯分布的采样，通过重参数化技巧得到新编码，该新编码执行编码->图片的过程。\n",
    "- VAE下采样阶段使用传统的Conv层，最后一层的输出的特征拉平后通过两个线性层得到$\\mu$和$\\sigma$\n",
    "- VAE上采样阶段之前，将重参数化得到的编码变为(b,c,h,w)的格式，使用ConvTrans层将编码上采样至原图大小\n",
    "\n",
    "论文链接：*https://docs.popo.netease.com/docs/9b877dd824ba440cb286d6f7923d1dbb*"
   ]
  },
  {
   "cell_type": "code",
   "execution_count": 1,
   "id": "4fbca12d",
   "metadata": {},
   "outputs": [],
   "source": [
    "import torch\n",
    "from typing import List, Callable, Union, Any, TypeVar, Tuple\n",
    "# from torch import tensor as Tensor\n",
    "\n",
    "Tensor = TypeVar('torch.tensor')\n",
    "\n",
    "device = 0 if torch.cuda.is_available else \"cpu\"\n",
    "# device = \"cpu\"\n",
    "# dataset_name = \"mnist\"\n",
    "dataset_name = \"fashion_mnist\" # 一个时装数据集，以灰度图的形式保存了各种时装的照片"
   ]
  },
  {
   "cell_type": "code",
   "execution_count": 2,
   "id": "bd4f6dad",
   "metadata": {},
   "outputs": [],
   "source": [
    "from torch import nn\n",
    "from abc import abstractmethod\n",
    "\n",
    "class BaseVAE(nn.Module):\n",
    "    \n",
    "    def __init__(self) -> None:\n",
    "        super(BaseVAE, self).__init__()\n",
    "\n",
    "    def encode(self, input: Tensor) -> List[Tensor]:\n",
    "        raise NotImplementedError\n",
    "\n",
    "    def decode(self, input: Tensor) -> Any:\n",
    "        raise NotImplementedError\n",
    "\n",
    "    def sample(self, batch_size:int, current_device: int, **kwargs) -> Tensor:\n",
    "        raise NotImplementedError\n",
    "\n",
    "    def generate(self, x: Tensor, **kwargs) -> Tensor:\n",
    "        raise NotImplementedError\n",
    "\n",
    "    @abstractmethod\n",
    "    def forward(self, *inputs: Tensor) -> Tensor:\n",
    "        pass\n",
    "\n",
    "    @abstractmethod\n",
    "    def loss_function(self, *inputs: Any, **kwargs) -> Tensor:\n",
    "        pass"
   ]
  },
  {
   "cell_type": "code",
   "execution_count": 3,
   "id": "30a7c80d",
   "metadata": {},
   "outputs": [],
   "source": [
    "import torch\n",
    "import torch.nn as nn\n",
    "from torch.nn import functional as F"
   ]
  },
  {
   "cell_type": "code",
   "execution_count": 4,
   "id": "12e59112-e3ce-4fab-bf6d-5c8644900696",
   "metadata": {},
   "outputs": [],
   "source": [
    "class BetaVAE(BaseVAE):\n",
    "    def __init__(self,\n",
    "                 in_channels: int,\n",
    "                 latent_dim: int,\n",
    "                 hidden_dims: List = None,\n",
    "                 beta: int = 6,\n",
    "                 gamma:float = 1000.,\n",
    "                 max_capacity: int = 25,\n",
    "                 Capacity_max_iter: int = 1e5,\n",
    "                 loss_type:str = 'B',\n",
    "                 **kwargs) -> None:\n",
    "        super(BetaVAE, self).__init__()\n",
    "\n",
    "        self.latent_dim = latent_dim\n",
    "        self.beta = beta\n",
    "        self.gamma = gamma\n",
    "        self.loss_type = loss_type\n",
    "        self.C_max = torch.Tensor([max_capacity])\n",
    "        self.C_stop_iter = Capacity_max_iter\n",
    "        \n",
    "        modules = []\n",
    "        hidden_dims = [32, 64, 128, 256]\n",
    "        # Build Encoder\n",
    "        for h_dim in hidden_dims:\n",
    "            modules.append(\n",
    "                nn.Sequential(\n",
    "                    nn.Conv2d(in_channels,out_channels=h_dim,\n",
    "                             kernel_size=3,stride=2,padding=1),\n",
    "                    nn.BatchNorm2d(h_dim),\n",
    "                    nn.LeakyReLU())\n",
    "            )\n",
    "            in_channels = h_dim\n",
    "            \n",
    "        self.encoder = nn.Sequential(*modules)\n",
    "        self.fc_mu = nn.Linear(hidden_dims[-1]*4, latent_dim)\n",
    "        self.fc_var = nn.Linear(hidden_dims[-1]*4, latent_dim)\n",
    "        \n",
    "        # Build Decoder\n",
    "        modules = []\n",
    "        self.decoder_input = nn.Linear(latent_dim, hidden_dims[-1]*4)\n",
    "        hidden_dims.reverse()\n",
    "\n",
    "        for i in range(len(hidden_dims)-1):\n",
    "            modules.append(\n",
    "                nn.Sequential(\n",
    "                    nn.ConvTranspose2d(hidden_dims[i],hidden_dims[i+1],\n",
    "                                      kernel_size=3,stride=2,padding=1,\n",
    "                                      output_padding=1),\n",
    "                    nn.BatchNorm2d(hidden_dims[i+1]),\n",
    "                    nn.LeakyReLU())\n",
    "                )\n",
    "        self.decoder = nn.Sequential(*modules)\n",
    "        \n",
    "        # Build final layer\n",
    "        self.final_layer = nn.Sequential(nn.ConvTranspose2d(hidden_dims[-1],\n",
    "                                                      hidden_dims[-1],\n",
    "                                                      kernel_size=3,\n",
    "                                                      stride=2,\n",
    "                                                      padding=1,\n",
    "                                                      output_padding=1),\n",
    "                                   nn.BatchNorm2d(hidden_dims[-1]),\n",
    "                                   nn.LeakyReLU(),\n",
    "                                   nn.Conv2d(hidden_dims[-1],out_channels=1,\n",
    "                                            kernel_size=3,padding=1),\n",
    "                                   nn.Tanh())\n",
    "        \n",
    "    def encode(self, input):\n",
    "        result = self.encoder(input)\n",
    "        result = torch.flatten(result,start_dim=1)\n",
    "        mu = self.fc_mu(result)\n",
    "        log_var = self.fc_var(result)\n",
    "        \n",
    "        return [mu, log_var]\n",
    "    \n",
    "    def decode(self, z):\n",
    "        result = self.decoder_input(z)\n",
    "        result = result.view(-1,256,2,2)\n",
    "        result = self.decoder(result)\n",
    "        result = self.final_layer(result)\n",
    "        return result\n",
    "    \n",
    "    def reparameterize(self, mu, logvar):\n",
    "        std = torch.exp(0.5 * logvar)\n",
    "        eps = torch.randn_like(logvar)\n",
    "        return eps*std + mu\n",
    "    \n",
    "    def forward(self, input, **kwargs):\n",
    "        mu, logvar = self.encode(input)\n",
    "        z = self.reparameterize(mu, logvar)\n",
    "        result = self.decode(z)\n",
    "        return [result, input, mu, logvar]\n",
    "    \n",
    "    def loss_calculate(self,*args,**kwargs):\n",
    "        \n",
    "        recons = args[0]\n",
    "        input = args[1]\n",
    "        mu = args[2]\n",
    "        log_var = args[3]\n",
    "        kld_weight = 0.00025\n",
    "        recons_loss = F.mse_loss(recons, input)\n",
    "        kld_loss = torch.mean(-0.5 * torch.sum(1+log_var - log_var.exp() - mu ** 2, dim=1),dim=0)\n",
    "        loss = recons_loss + self.beta * kld_weight * kld_loss\n",
    "        \n",
    "        return {'loss': loss, 'Reconstruction_Loss':recons_loss, 'KLD':kld_loss}\n",
    "    \n",
    "    @torch.no_grad()\n",
    "    def sample(self, num_samples):\n",
    "        z = torch.randn(num_samples, self.latent_dim)\n",
    "        z = z.to(device)\n",
    "        \n",
    "        samples = self.decode(z)\n",
    "        samples = samples.cpu().numpy()\n",
    "        return samples"
   ]
  },
  {
   "cell_type": "code",
   "execution_count": 5,
   "id": "71b306d9-00c3-473e-9f5e-05d5e164f025",
   "metadata": {},
   "outputs": [],
   "source": [
    "import torch\n",
    "import torchvision\n",
    "from torch.utils.data import DataLoader\n"
   ]
  },
  {
   "cell_type": "code",
   "execution_count": 6,
   "id": "af81f698-32e3-4130-b782-6573a4999e64",
   "metadata": {},
   "outputs": [],
   "source": [
    "batch_size_train = 32"
   ]
  },
  {
   "cell_type": "code",
   "execution_count": 7,
   "id": "7a814401-e193-40b0-a426-5db45a447838",
   "metadata": {},
   "outputs": [
    {
     "name": "stderr",
     "output_type": "stream",
     "text": [
      "Found cached dataset fashion_mnist (/home/ygq/.cache/huggingface/datasets/fashion_mnist/fashion_mnist/1.0.0/8d6c32399aa01613d96e2cbc9b13638f359ef62bb33612b077b4c247f6ef99c1)\n"
     ]
    },
    {
     "data": {
      "application/vnd.jupyter.widget-view+json": {
       "model_id": "d1a54788ca2443d5aa2bab9bde61a837",
       "version_major": 2,
       "version_minor": 0
      },
      "text/plain": [
       "  0%|          | 0/2 [00:00<?, ?it/s]"
      ]
     },
     "metadata": {},
     "output_type": "display_data"
    }
   ],
   "source": [
    "from torchvision import transforms\n",
    "from torch.utils.data import DataLoader\n",
    "from datasets import load_dataset\n",
    "from torchvision.transforms import Compose\n",
    "\n",
    "\n",
    "dataset = load_dataset(dataset_name)\n",
    "\n",
    "transform = Compose([\n",
    "    transforms.RandomHorizontalFlip(),\n",
    "    transforms.Resize((32,32)),\n",
    "    transforms.ToTensor(),\n",
    "    transforms.Lambda(lambda t:(t*2) - 1)\n",
    "])\n",
    "\n",
    "def transforms_(examples):\n",
    "    examples[\"pixel_values\"] = [transform(image.convert(\"L\")) for image in examples[\"image\"]]\n",
    "    del examples[\"image\"]\n",
    "    return examples\n",
    "\n",
    "transformed_dataset = dataset.with_transform(transforms_).remove_columns(\"label\")\n",
    "\n",
    "dataloader = DataLoader(transformed_dataset[\"train\"], batch_size=batch_size_train, shuffle=True)"
   ]
  },
  {
   "cell_type": "code",
   "execution_count": 8,
   "id": "3a2401d9-5f23-462d-a9a7-3eb35ea6c4df",
   "metadata": {},
   "outputs": [],
   "source": [
    "import torch.optim as optim\n",
    "vae_model = BetaVAE(1,128)\n",
    "vae_model.to(device)\n",
    "optimizer = optim.Adam(vae_model.parameters(), lr=0.005)"
   ]
  },
  {
   "cell_type": "code",
   "execution_count": 9,
   "id": "2404664e-ae7f-4f38-acb6-1cbe7957128e",
   "metadata": {},
   "outputs": [],
   "source": [
    "def train(epoch):\n",
    "    loss_sum_in_one_batch = 0\n",
    "    batch_count = 0\n",
    "    for batch_idx, batch in enumerate(dataloader):\n",
    "        optimizer.zero_grad()\n",
    "        data = batch[\"pixel_values\"].to(device)\n",
    "        result = vae_model(data)\n",
    "        loss_dict = vae_model.loss_calculate(*result, M_N=None)\n",
    "        loss_dict['loss'].backward()\n",
    "        optimizer.step()\n",
    "        loss_sum_in_one_batch += loss_dict['loss'].item()\n",
    "        batch_count += 1\n",
    "        if batch_count % 100 == 0:\n",
    "            print(f\"epoch {epoch} batch count {batch_count} , avg loss is {loss_sum_in_one_batch / batch_count}\")\n"
   ]
  },
  {
   "cell_type": "code",
   "execution_count": 10,
   "id": "d6b50a06-da9a-425b-a606-8e43be5e436e",
   "metadata": {},
   "outputs": [],
   "source": [
    "import matplotlib.pyplot as plt\n",
    "def generate_image(images):\n",
    "    image = images[0,0,:,:]\n",
    "    plt.imshow(image, cmap='gray')\n",
    "    plt.show()"
   ]
  },
  {
   "cell_type": "code",
   "execution_count": null,
   "id": "696618f4-31c0-4f1a-8fd7-7f3a938e33b5",
   "metadata": {
    "scrolled": true,
    "tags": []
   },
   "outputs": [
    {
     "name": "stdout",
     "output_type": "stream",
     "text": [
      "epoch 1 batch count 100 , avg loss is 0.30468316212296487\n",
      "epoch 1 batch count 200 , avg loss is 0.22892067611217498\n",
      "epoch 1 batch count 300 , avg loss is 0.1982484910140435\n",
      "epoch 1 batch count 400 , avg loss is 0.17916565589606762\n",
      "epoch 1 batch count 500 , avg loss is 0.16563695518672467\n",
      "epoch 1 batch count 600 , avg loss is 0.1550777380168438\n",
      "epoch 1 batch count 700 , avg loss is 0.1473218215469803\n",
      "epoch 1 batch count 800 , avg loss is 0.14095911972224712\n",
      "epoch 1 batch count 900 , avg loss is 0.1356015999035703\n",
      "epoch 1 batch count 1000 , avg loss is 0.13123824614286422\n",
      "epoch 1 batch count 1100 , avg loss is 0.12763833309439096\n",
      "epoch 1 batch count 1200 , avg loss is 0.12446606833487749\n",
      "epoch 1 batch count 1300 , avg loss is 0.12160853915489638\n",
      "epoch 1 batch count 1400 , avg loss is 0.11915182529815606\n",
      "epoch 1 batch count 1500 , avg loss is 0.11691316638886928\n",
      "epoch 1 batch count 1600 , avg loss is 0.11490346179809421\n",
      "epoch 1 batch count 1700 , avg loss is 0.11306416425196564\n",
      "epoch 1 batch count 1800 , avg loss is 0.11142388609962331\n"
     ]
    },
    {
     "data": {
      "image/png": "[encoded data removed]",
      "text/plain": [
       "<Figure size 640x480 with 1 Axes>"
      ]
     },
     "metadata": {},
     "output_type": "display_data"
    },
    {
     "name": "stdout",
     "output_type": "stream",
     "text": [
      "epoch 2 batch count 100 , avg loss is 0.08207679130136966\n",
      "epoch 2 batch count 200 , avg loss is 0.08148792508989572\n",
      "epoch 2 batch count 300 , avg loss is 0.08114826371272404\n",
      "epoch 2 batch count 400 , avg loss is 0.08106474544852972\n",
      "epoch 2 batch count 500 , avg loss is 0.08082509002089501\n",
      "epoch 2 batch count 600 , avg loss is 0.08058312702924013\n",
      "epoch 2 batch count 700 , avg loss is 0.08037440576723644\n",
      "epoch 2 batch count 800 , avg loss is 0.08013935402035713\n",
      "epoch 2 batch count 900 , avg loss is 0.08001382603413529\n",
      "epoch 2 batch count 1000 , avg loss is 0.07994466721266508\n",
      "epoch 2 batch count 1100 , avg loss is 0.07968426686796275\n",
      "epoch 2 batch count 1200 , avg loss is 0.07952964461718996\n",
      "epoch 2 batch count 1300 , avg loss is 0.0793208829084268\n",
      "epoch 2 batch count 1400 , avg loss is 0.07898846697328346\n",
      "epoch 2 batch count 1500 , avg loss is 0.0787434394682447\n",
      "epoch 2 batch count 1600 , avg loss is 0.07861469026654959\n",
      "epoch 2 batch count 1700 , avg loss is 0.07845972100601477\n",
      "epoch 2 batch count 1800 , avg loss is 0.0782225589081645\n"
     ]
    },
    {
     "data": {
      "image/png": "[encoded data removed]",
      "text/plain": [
       "<Figure size 640x480 with 1 Axes>"
      ]
     },
     "metadata": {},
     "output_type": "display_data"
    },
    {
     "name": "stdout",
     "output_type": "stream",
     "text": [
      "epoch 3 batch count 100 , avg loss is 0.07465025711804628\n",
      "epoch 3 batch count 200 , avg loss is 0.07507479140534996\n",
      "epoch 3 batch count 300 , avg loss is 0.07542957821240028\n",
      "epoch 3 batch count 400 , avg loss is 0.07557683927938343\n",
      "epoch 3 batch count 500 , avg loss is 0.07525235698372125\n",
      "epoch 3 batch count 600 , avg loss is 0.07512312640125553\n",
      "epoch 3 batch count 700 , avg loss is 0.07486733409443072\n",
      "epoch 3 batch count 800 , avg loss is 0.0746731265168637\n",
      "epoch 3 batch count 900 , avg loss is 0.07463098801672459\n",
      "epoch 3 batch count 1000 , avg loss is 0.07465849824994802\n",
      "epoch 3 batch count 1100 , avg loss is 0.0745655173029412\n",
      "epoch 3 batch count 1200 , avg loss is 0.07450595364285012\n",
      "epoch 3 batch count 1300 , avg loss is 0.07437296782835172\n",
      "epoch 3 batch count 1400 , avg loss is 0.07434476972424559\n",
      "epoch 3 batch count 1500 , avg loss is 0.07420780228823423\n",
      "epoch 3 batch count 1600 , avg loss is 0.07407351706409827\n",
      "epoch 3 batch count 1700 , avg loss is 0.07398734668379321\n",
      "epoch 3 batch count 1800 , avg loss is 0.07389406391936872\n"
     ]
    },
    {
     "data": {
      "image/png": "[encoded data removed]",
      "text/plain": [
       "<Figure size 640x480 with 1 Axes>"
      ]
     },
     "metadata": {},
     "output_type": "display_data"
    },
    {
     "name": "stdout",
     "output_type": "stream",
     "text": [
      "epoch 4 batch count 100 , avg loss is 0.07243923336267472\n",
      "epoch 4 batch count 200 , avg loss is 0.07279763862490654\n",
      "epoch 4 batch count 300 , avg loss is 0.07263629514724017\n",
      "epoch 4 batch count 400 , avg loss is 0.07219489973969757\n",
      "epoch 4 batch count 500 , avg loss is 0.07192787435650826\n",
      "epoch 4 batch count 600 , avg loss is 0.07194979606817166\n",
      "epoch 4 batch count 700 , avg loss is 0.07186457169907434\n",
      "epoch 4 batch count 800 , avg loss is 0.07188430044800043\n",
      "epoch 4 batch count 900 , avg loss is 0.0719022005258335\n",
      "epoch 4 batch count 1000 , avg loss is 0.07172476186975837\n",
      "epoch 4 batch count 1100 , avg loss is 0.07179612260989167\n"
     ]
    }
   ],
   "source": [
    "vae_model.train()\n",
    "for i in range(10):\n",
    "    train(i+1)\n",
    "    generate_image(vae_model.sample(1))\n",
    "torch.save(vae_model.state_dict(),\"./model.pt\")"
   ]
  },
  {
   "cell_type": "code",
   "execution_count": null,
   "id": "9b6c8033-16eb-49ad-8cc0-79576ef17205",
   "metadata": {},
   "outputs": [],
   "source": []
  }
 ],
 "metadata": {
  "kernelspec": {
   "display_name": "dalle2",
   "language": "python",
   "name": "dalle2"
  },
  "language_info": {
   "codemirror_mode": {
    "name": "ipython",
    "version": 3
   },
   "file_extension": ".py",
   "mimetype": "text/x-python",
   "name": "python",
   "nbconvert_exporter": "python",
   "pygments_lexer": "ipython3",
   "version": "3.8.15"
  }
 },
 "nbformat": 4,
 "nbformat_minor": 5
}
