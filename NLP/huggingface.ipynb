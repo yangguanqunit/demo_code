{
 "cells": [
  {
   "cell_type": "code",
   "execution_count": 6,
   "id": "6d9e2e5e-3477-4616-b3a1-14014c91d657",
   "metadata": {
    "tags": []
   },
   "outputs": [],
   "source": [
    "import torch\n",
    "from transformers import CLIPTextModel, CLIPTokenizer"
   ]
  },
  {
   "cell_type": "code",
   "execution_count": 3,
   "id": "1efa82de-61ff-478e-8388-5d34f785553c",
   "metadata": {
    "tags": []
   },
   "outputs": [],
   "source": [
    "# Text Process"
   ]
  },
  {
   "cell_type": "code",
   "execution_count": 43,
   "id": "babad216-1ddd-4e8c-929c-b20a692a7f66",
   "metadata": {
    "tags": []
   },
   "outputs": [],
   "source": [
    "text_ids = [[49406, 47124, 15144,   267, 32515,   267,  1033,  7425,   267,  5860,\n",
    "            267,  9680,   267, 15567, 24190,   267, 21154,   267,  6687,   318,\n",
    "           3940,   267,   534,  1863,   746,   267,  2660,   268,   705,   267,\n",
    "           1774,   268,  3940,   267,    67,  1892,   267, 14531,   267,  7681,\n",
    "            268,  3940,   267, 49407, 49407, 49407, 49407, 49407, 49407, 49407,\n",
    "          49407, 49407, 49407, 49407, 49407, 49407, 49407, 49407, 49407, 49407,\n",
    "          49407, 49407, 49407, 49407, 49407, 49407, 49407, 49407, 49407, 49407,\n",
    "          49407, 49407, 49407, 49407, 49407, 49407, 49407],\n",
    "         [49406, 49407, 49407, 49407, 49407, 49407, 49407, 49407, 49407, 49407,\n",
    "          49407, 49407, 49407, 49407, 49407, 49407, 49407, 49407, 49407, 49407,\n",
    "          49407, 49407, 49407, 49407, 49407, 49407, 49407, 49407, 49407, 49407,\n",
    "          49407, 49407, 49407, 49407, 49407, 49407, 49407, 49407, 49407, 49407,\n",
    "          49407, 49407, 49407, 49407, 49407, 49407, 49407, 49407, 49407, 49407,\n",
    "          49407, 49407, 49407, 49407, 49407, 49407, 49407, 49407, 49407, 49407,\n",
    "          49407, 49407, 49407, 49407, 49407, 49407, 49407, 49407, 49407, 49407,\n",
    "          49407, 49407, 49407, 49407, 49407, 49407, 49407],\n",
    "         [49406, 49407, 49407, 49407, 49407, 49407, 49407, 49407, 49407, 49407,\n",
    "          49407, 49407, 49407, 49407, 49407, 49407, 49407, 49407, 49407, 49407,\n",
    "          49407, 49407, 49407, 49407, 49407, 49407, 49407, 49407, 49407, 49407,\n",
    "          49407, 49407, 49407, 49407, 49407, 49407, 49407, 49407, 49407, 49407,\n",
    "          49407, 49407, 49407, 49407, 49407, 49407, 49407, 49407, 49407, 49407,\n",
    "          49407, 49407, 49407, 49407, 49407, 49407, 49407, 49407, 49407, 49407,\n",
    "          49407, 49407, 49407, 49407, 49407, 49407, 49407, 49407, 49407, 49407,\n",
    "          49407, 49407, 49407, 49407, 49407, 49407, 49407]]\n",
    "input_ids = torch.tensor(text_ids)\n",
    "b_size = input_ids.size()[0]\n",
    "input_ids = input_ids.reshape((-1, 77))"
   ]
  },
  {
   "cell_type": "code",
   "execution_count": 9,
   "id": "16b5696e-c9f5-481c-b57f-6ecf4212cbeb",
   "metadata": {
    "tags": []
   },
   "outputs": [],
   "source": [
    "tokenizer_name = \"openai/clip-vit-large-patch14\"\n",
    "tokenizer = CLIPTokenizer.from_pretrained(tokenizer_name)"
   ]
  },
  {
   "cell_type": "code",
   "execution_count": null,
   "id": "72184a32-5145-4a7f-a382-546cb13a9851",
   "metadata": {
    "tags": []
   },
   "outputs": [],
   "source": [
    "text_encoder_name = \"openai/clip-vit-large-patch14\"\n",
    "text_encoder = CLIPTextModel.from_pretrained(text_encoder_name)"
   ]
  },
  {
   "cell_type": "code",
   "execution_count": 17,
   "id": "8a8897e5-9d80-4d64-a575-8e6be42dfd9d",
   "metadata": {
    "tags": []
   },
   "outputs": [],
   "source": [
    "model_max_length = tokenizer.model_max_length\n",
    "max_token_length = 255"
   ]
  },
  {
   "cell_type": "code",
   "execution_count": 28,
   "id": "446a88aa-274d-4ff2-bc36-39cd19af4885",
   "metadata": {},
   "outputs": [],
   "source": [
    "def get_hidden_states(max_token_length, input_ids, tokenizer, text_encoder, weight_dtype=None):\n",
    "    b_size = input_ids.size()[0]\n",
    "    input_ids = input_ids.reshape((-1, tokenizer.model_max_length))\n",
    "    \n",
    "    encoder_hidden_states = text_encoder(input_ids)[0]\n",
    "    encoder_hidden_states = encoder_hidden_states.reshape((b_size, -1, encoder_hidden_states.shape[-1]))\n",
    "    \n",
    "    states_list = [encoder_hidden_states[:, 0].unsqueeze(1)]\n",
    "    # 这里循环的意思是每次跳过77个字符，77是分词模型的最大长度\n",
    "    for i in range(1, max_token_length, tokenizer.model_max_length):\n",
    "        states_list.append(encoder_hidden_states[:, i:i+tokenizer.model_max_length - 2])\n",
    "    states_list.append(encoder_hidden_states[:, -1].unsqueeze(1))\n",
    "    encoder_hidden_states = torch.cat(states_list, dim=1)\n",
    "    return encoder_hidden_states"
   ]
  },
  {
   "cell_type": "code",
   "execution_count": 53,
   "id": "eeef08e9-3af4-46f9-9c71-cee0a34fa79a",
   "metadata": {
    "tags": []
   },
   "outputs": [],
   "source": [
    "# Vae Encode"
   ]
  },
  {
   "cell_type": "code",
   "execution_count": 11,
   "id": "e6045dee-c0aa-4e28-9cf1-923ec6bcf00e",
   "metadata": {
    "tags": []
   },
   "outputs": [],
   "source": [
    "from diffusers import AutoencoderKL"
   ]
  },
  {
   "cell_type": "code",
   "execution_count": 14,
   "id": "f62012c7-e6e3-46fb-8700-b2691dcf217e",
   "metadata": {
    "tags": []
   },
   "outputs": [],
   "source": [
    "def create_vae_diffusers_config():\n",
    "    block_out_channels = [128, 256, 512, 512]\n",
    "    down_block_types = [\"DownEncoderBlock2D\"] * len(block_out_channels)\n",
    "    up_block_types = [\"UpDecoderBlock2D\"] * len(block_out_channels)\n",
    "    \n",
    "    config = dict(\n",
    "        sample_size=256,\n",
    "        in_channels=3,\n",
    "        out_channels=3,\n",
    "        down_block_types=tuple(down_block_types),\n",
    "        up_block_types=tuple(up_block_types),\n",
    "        block_out_channels=block_out_channels,\n",
    "        latent_channels=4,\n",
    "        layers_per_block=2\n",
    "    )\n",
    "    return config"
   ]
  },
  {
   "cell_type": "code",
   "execution_count": 15,
   "id": "a917981c-2cde-4755-8320-fcdcf323b12f",
   "metadata": {},
   "outputs": [],
   "source": [
    "vae_config = create_vae_diffusers_config()\n",
    "#converted_vae_checkpoint = convert_ldm_vae_checkpoint(state_dict, vae_config)\n",
    "vae = AutoencoderKL(**vae_config)\n",
    "#vae.load_state_dict_stat(converted_vae_checkpoint)"
   ]
  },
  {
   "cell_type": "code",
   "execution_count": 31,
   "id": "d2b587c5-9abb-4b9e-a879-3cf9a5202908",
   "metadata": {
    "tags": []
   },
   "outputs": [],
   "source": [
    "# Noise Process"
   ]
  },
  {
   "cell_type": "code",
   "execution_count": null,
   "id": "974ea74c-cd22-4254-918e-6eda0b866102",
   "metadata": {},
   "outputs": [],
   "source": [
    "# Unet"
   ]
  },
  {
   "cell_type": "code",
   "execution_count": 1,
   "id": "67ba80fe-374e-421e-b3ce-93b8e599bd7f",
   "metadata": {},
   "outputs": [],
   "source": [
    "from diffusers import UNet2DConditionModel"
   ]
  },
  {
   "cell_type": "code",
   "execution_count": 3,
   "id": "8f0761a1-3c34-4dbb-b9a9-ef9207a0ccc7",
   "metadata": {},
   "outputs": [],
   "source": [
    "UNET_PARAMS_ATTENTION_RESOLUTIONS = [4, 2, 1]\n",
    "def create_unet_diffusers_config():\n",
    "    \n",
    "    block_out_channels = [320, 640, 1280, 1280]\n",
    "    \n",
    "    down_block_types = []\n",
    "    resolution = 1\n",
    "    for i in range(len(block_out_channels)):\n",
    "        block_type = \"CrossAttnDownBlock2D\" if resolution in UNET_PARAMS_ATTENTION_RESOLUTIONS else \"DownBlock2D\"\n",
    "        down_block_types.append(block_type)\n",
    "        if i != len(block_out_channels) - 1:\n",
    "            resolution *= 2\n",
    "    \n",
    "    up_block_types = []\n",
    "    for i in range(len(block_out_channels)):\n",
    "        block_type = \"CrossAttnUpBlock2D\" if resolution in UNET_PARAMS_ATTENTION_RESOLUTIONS else \"UpBlock2D\"\n",
    "        up_block_types.append(block_type)\n",
    "        resolution //= 2\n",
    "    \n",
    "    config = dict(\n",
    "        sample_size=64,\n",
    "        in_channels=4,\n",
    "        out_channels=4,\n",
    "        down_block_types=down_block_types,\n",
    "        up_block_types=up_block_types,\n",
    "        block_out_channels=block_out_channels,\n",
    "        layers_per_block=2,\n",
    "        cross_attention_dim=768,\n",
    "        attention_head_dim=8\n",
    "    )\n",
    "    \n",
    "    return config"
   ]
  },
  {
   "cell_type": "code",
   "execution_count": 4,
   "id": "e33526ee-b5d6-4d88-8037-3f748cd34f0f",
   "metadata": {},
   "outputs": [],
   "source": [
    "unet_config = create_unet_diffusers_config()\n",
    "unet = UNet2DConditionModel(**unet_config)"
   ]
  },
  {
   "cell_type": "code",
   "execution_count": 9,
   "id": "3c28104e-960c-4a69-8907-3dce9fd4b2b4",
   "metadata": {},
   "outputs": [
    {
     "data": {
      "text/plain": [
       "tensor([[[[ 1.1612, -0.6159, -0.3172,  ..., -0.4646, -0.1341,  0.0489],\n",
       "          [ 1.2196,  1.2926,  0.5371,  ..., -0.3253,  0.0946,  0.0962],\n",
       "          [ 1.9248,  0.3013,  0.8931,  ..., -1.0671,  0.3287,  1.0070],\n",
       "          ...,\n",
       "          [ 0.8416, -0.8601,  0.9834,  ..., -0.0107,  0.8483,  1.2202],\n",
       "          [-0.0811, -0.7323, -0.7652,  ...,  0.3443, -0.2686, -1.3413],\n",
       "          [-0.6714, -1.4213, -1.4621,  ..., -1.6394, -0.8106,  0.0229]],\n",
       "\n",
       "         [[-1.3175,  0.8606,  1.2292,  ..., -0.7246, -0.0640, -0.6332],\n",
       "          [-1.3514,  0.6843, -0.0090,  ..., -1.6085, -0.1295,  0.4869],\n",
       "          [ 1.6775, -0.2050, -0.5906,  ..., -0.2969, -0.7588, -0.2212],\n",
       "          ...,\n",
       "          [-1.0593, -2.3069,  0.0816,  ..., -0.0593,  1.5024, -0.1923],\n",
       "          [-1.3114, -0.0381, -0.9962,  ...,  0.9425,  1.3671,  1.0527],\n",
       "          [ 1.1787, -0.9331, -0.8278,  ..., -0.2503, -1.5601,  0.5628]],\n",
       "\n",
       "         [[ 0.7677, -0.2095,  0.9692,  ..., -0.6627, -0.1723,  0.2744],\n",
       "          [-0.6453,  0.6016,  0.4235,  ...,  1.0319, -1.7860,  0.6219],\n",
       "          [ 0.0666,  0.2793,  0.7456,  ...,  0.2175, -0.4980, -0.0269],\n",
       "          ...,\n",
       "          [ 0.7655, -0.8657,  0.0766,  ..., -0.1220,  0.3557, -0.2376],\n",
       "          [-1.3035, -0.2133,  1.0615,  ...,  0.4354,  0.4144, -0.1646],\n",
       "          [-1.1713,  0.2749, -0.1665,  ..., -0.7532,  0.1905, -0.1108]]]])"
      ]
     },
     "execution_count": 9,
     "metadata": {},
     "output_type": "execute_result"
    }
   ],
   "source": [
    "image = torch.randn((1,3,576,576)).to(dtype=torch.float32)\n",
    "image"
   ]
  },
  {
   "cell_type": "code",
   "execution_count": 16,
   "id": "32ebda93-71bc-46a2-a753-3d74806b75a7",
   "metadata": {},
   "outputs": [],
   "source": [
    "latents = vae.encode(image).latent_dist.sample()\n",
    "# 还没明白是啥意思，好像为了统一方差啥的\n",
    "latents = latents * 0.18215\n",
    "b_size = latents.shape[0]"
   ]
  },
  {
   "cell_type": "code",
   "execution_count": null,
   "id": "bb14616e-4ece-408b-ba1c-dd6ec7e4f512",
   "metadata": {},
   "outputs": [],
   "source": [
    "encoder_hidden_states = get_hidden_states(max_token_length, input_ids, tokenizer, text_encoder)"
   ]
  },
  {
   "cell_type": "code",
   "execution_count": null,
   "id": "ff1c9bd7-6e6d-4b92-97ea-f73dc70654dd",
   "metadata": {},
   "outputs": [],
   "source": [
    "noise = torch.randn_like(latents, device=latents.deivce)\n",
    "\n",
    "# diffusion-with-offset-noise\n",
    "# noise_offset = 0.\n",
    "# noise += noise_offset * torch.((latents.shape[0], latents.shape[1], 1, 1), device=latents.device)\n",
    "\n"
   ]
  },
  {
   "cell_type": "code",
   "execution_count": 20,
   "id": "dbd81ef7-8127-47ef-831b-091e6bc38cce",
   "metadata": {
    "tags": []
   },
   "outputs": [],
   "source": [
    "from diffusers import DDPMScheduler"
   ]
  },
  {
   "cell_type": "code",
   "execution_count": 21,
   "id": "4d28efc2-7574-40a7-9a08-5d701143cc6b",
   "metadata": {
    "tags": []
   },
   "outputs": [],
   "source": [
    "noise_scheduler = DDPMScheduler(beta_start=0.00085, beta_end=0.012, beta_schedule=\"scaled_linear\", num_train_timesteps=1000, clip_sample=False)"
   ]
  },
  {
   "cell_type": "code",
   "execution_count": null,
   "id": "0cf6e8de-2fe8-4475-8a24-d97a732e5c64",
   "metadata": {
    "tags": []
   },
   "outputs": [],
   "source": [
    "timesteps = torch.randint(0, noise_scheduler.config.num_train_timesteps, (b_size,))\n",
    "timesteps = timesteps.long()"
   ]
  },
  {
   "cell_type": "code",
   "execution_count": null,
   "id": "ef201b7c-c243-41d5-b1d6-e1e176e7e059",
   "metadata": {},
   "outputs": [],
   "source": [
    "noisy_latents = noise_scheduler.add_noisead(latents, noise, timesteps)"
   ]
  },
  {
   "cell_type": "code",
   "execution_count": null,
   "id": "7a97fb0f-5f95-458d-a91b-2fa759cf7e3a",
   "metadata": {},
   "outputs": [],
   "source": [
    "noise_pred = unet(noisy_latents, timesteps, encoder_hidden_states).sample"
   ]
  },
  {
   "cell_type": "code",
   "execution_count": 34,
   "id": "3df43cfd-1974-4bc9-97cf-21e72356e1b9",
   "metadata": {},
   "outputs": [
    {
     "data": {
      "text/plain": [
       "tensor([3, 3, 3, 3])"
      ]
     },
     "execution_count": 34,
     "metadata": {},
     "output_type": "execute_result"
    }
   ],
   "source": [
    "a = torch.tensor([3])\n",
    "a.expand(4)"
   ]
  },
  {
   "cell_type": "code",
   "execution_count": null,
   "id": "c3dc32ad-a8a4-4fd8-988c-737c8d08c216",
   "metadata": {},
   "outputs": [],
   "source": []
  }
 ],
 "metadata": {
  "kernelspec": {
   "display_name": "my",
   "language": "python",
   "name": "my"
  },
  "language_info": {
   "codemirror_mode": {
    "name": "ipython",
    "version": 3
   },
   "file_extension": ".py",
   "mimetype": "text/x-python",
   "name": "python",
   "nbconvert_exporter": "python",
   "pygments_lexer": "ipython3",
   "version": "3.8.15"
  }
 },
 "nbformat": 4,
 "nbformat_minor": 5
}
