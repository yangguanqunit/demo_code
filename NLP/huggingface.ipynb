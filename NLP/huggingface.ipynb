{
 "cells": [
  {
   "cell_type": "code",
   "execution_count": null,
   "id": "6d9e2e5e-3477-4616-b3a1-14014c91d657",
   "metadata": {
    "tags": []
   },
   "outputs": [],
   "source": [
    "import torch\n",
    "from transformers import CLIPTextModel, CLIPTokenizer"
   ]
  },
  {
   "cell_type": "code",
   "execution_count": null,
   "id": "1efa82de-61ff-478e-8388-5d34f785553c",
   "metadata": {
    "tags": []
   },
   "outputs": [],
   "source": [
    "# Text Process"
   ]
  },
  {
   "cell_type": "code",
   "execution_count": null,
   "id": "babad216-1ddd-4e8c-929c-b20a692a7f66",
   "metadata": {
    "tags": []
   },
   "outputs": [],
   "source": [
    "text_ids = [[49406, 47124, 15144,   267, 32515,   267,  1033,  7425,   267,  5860,\n",
    "            267,  9680,   267, 15567, 24190,   267, 21154,   267,  6687,   318,\n",
    "           3940,   267,   534,  1863,   746,   267,  2660,   268,   705,   267,\n",
    "           1774,   268,  3940,   267,    67,  1892,   267, 14531,   267,  7681,\n",
    "            268,  3940,   267, 49407, 49407, 49407, 49407, 49407, 49407, 49407,\n",
    "          49407, 49407, 49407, 49407, 49407, 49407, 49407, 49407, 49407, 49407,\n",
    "          49407, 49407, 49407, 49407, 49407, 49407, 49407, 49407, 49407, 49407,\n",
    "          49407, 49407, 49407, 49407, 49407, 49407, 49407],\n",
    "         [49406, 49407, 49407, 49407, 49407, 49407, 49407, 49407, 49407, 49407,\n",
    "          49407, 49407, 49407, 49407, 49407, 49407, 49407, 49407, 49407, 49407,\n",
    "          49407, 49407, 49407, 49407, 49407, 49407, 49407, 49407, 49407, 49407,\n",
    "          49407, 49407, 49407, 49407, 49407, 49407, 49407, 49407, 49407, 49407,\n",
    "          49407, 49407, 49407, 49407, 49407, 49407, 49407, 49407, 49407, 49407,\n",
    "          49407, 49407, 49407, 49407, 49407, 49407, 49407, 49407, 49407, 49407,\n",
    "          49407, 49407, 49407, 49407, 49407, 49407, 49407, 49407, 49407, 49407,\n",
    "          49407, 49407, 49407, 49407, 49407, 49407, 49407],\n",
    "         [49406, 49407, 49407, 49407, 49407, 49407, 49407, 49407, 49407, 49407,\n",
    "          49407, 49407, 49407, 49407, 49407, 49407, 49407, 49407, 49407, 49407,\n",
    "          49407, 49407, 49407, 49407, 49407, 49407, 49407, 49407, 49407, 49407,\n",
    "          49407, 49407, 49407, 49407, 49407, 49407, 49407, 49407, 49407, 49407,\n",
    "          49407, 49407, 49407, 49407, 49407, 49407, 49407, 49407, 49407, 49407,\n",
    "          49407, 49407, 49407, 49407, 49407, 49407, 49407, 49407, 49407, 49407,\n",
    "          49407, 49407, 49407, 49407, 49407, 49407, 49407, 49407, 49407, 49407,\n",
    "          49407, 49407, 49407, 49407, 49407, 49407, 49407]]\n",
    "input_ids = torch.tensor(text_ids)\n",
    "b_size = input_ids.size()[0]\n",
    "input_ids = input_ids.reshape((-1, 77))"
   ]
  },
  {
   "cell_type": "code",
   "execution_count": null,
   "id": "16b5696e-c9f5-481c-b57f-6ecf4212cbeb",
   "metadata": {
    "tags": []
   },
   "outputs": [],
   "source": [
    "tokenizer_name = \"openai/clip-vit-large-patch14\"\n",
    "tokenizer = CLIPTokenizer.from_pretrained(tokenizer_name)"
   ]
  },
  {
   "cell_type": "code",
   "execution_count": null,
   "id": "72184a32-5145-4a7f-a382-546cb13a9851",
   "metadata": {
    "tags": []
   },
   "outputs": [],
   "source": [
    "text_encoder_name = \"openai/clip-vit-large-patch14\"\n",
    "text_encoder = CLIPTextModel.from_pretrained(text_encoder_name)"
   ]
  },
  {
   "cell_type": "code",
   "execution_count": null,
   "id": "8a8897e5-9d80-4d64-a575-8e6be42dfd9d",
   "metadata": {
    "tags": []
   },
   "outputs": [],
   "source": [
    "model_max_length = tokenizer.model_max_length\n",
    "max_token_length = 255"
   ]
  },
  {
   "cell_type": "code",
   "execution_count": null,
   "id": "446a88aa-274d-4ff2-bc36-39cd19af4885",
   "metadata": {},
   "outputs": [],
   "source": [
    "def get_hidden_states(max_token_length, input_ids, tokenizer, text_encoder, weight_dtype=None):\n",
    "    b_size = input_ids.size()[0]\n",
    "    input_ids = input_ids.reshape((-1, tokenizer.model_max_length))\n",
    "    \n",
    "    encoder_hidden_states = text_encoder(input_ids)[0]\n",
    "    encoder_hidden_states = encoder_hidden_states.reshape((b_size, -1, encoder_hidden_states.shape[-1]))\n",
    "    \n",
    "    states_list = [encoder_hidden_states[:, 0].unsqueeze(1)]\n",
    "    # 这里循环的意思是每次跳过77个字符，77是分词模型的最大长度\n",
    "    for i in range(1, max_token_length, tokenizer.model_max_length):\n",
    "        states_list.append(encoder_hidden_states[:, i:i+tokenizer.model_max_length - 2])\n",
    "    states_list.append(encoder_hidden_states[:, -1].unsqueeze(1))\n",
    "    encoder_hidden_states = torch.cat(states_list, dim=1)\n",
    "    return encoder_hidden_states"
   ]
  },
  {
   "cell_type": "code",
   "execution_count": null,
   "id": "eeef08e9-3af4-46f9-9c71-cee0a34fa79a",
   "metadata": {
    "tags": []
   },
   "outputs": [],
   "source": [
    "# Vae Encode"
   ]
  },
  {
   "cell_type": "code",
   "execution_count": null,
   "id": "e6045dee-c0aa-4e28-9cf1-923ec6bcf00e",
   "metadata": {
    "tags": []
   },
   "outputs": [],
   "source": [
    "from diffusers import AutoencoderKL"
   ]
  },
  {
   "cell_type": "code",
   "execution_count": null,
   "id": "f62012c7-e6e3-46fb-8700-b2691dcf217e",
   "metadata": {
    "tags": []
   },
   "outputs": [],
   "source": [
    "def create_vae_diffusers_config():\n",
    "    block_out_channels = [128, 256, 512, 512]\n",
    "    down_block_types = [\"DownEncoderBlock2D\"] * len(block_out_channels)\n",
    "    up_block_types = [\"UpDecoderBlock2D\"] * len(block_out_channels)\n",
    "    \n",
    "    config = dict(\n",
    "        sample_size=256,\n",
    "        in_channels=3,\n",
    "        out_channels=3,\n",
    "        down_block_types=tuple(down_block_types),\n",
    "        up_block_types=tuple(up_block_types),\n",
    "        block_out_channels=block_out_channels,\n",
    "        latent_channels=4,\n",
    "        layers_per_block=2\n",
    "    )\n",
    "    return config"
   ]
  },
  {
   "cell_type": "code",
   "execution_count": null,
   "id": "a917981c-2cde-4755-8320-fcdcf323b12f",
   "metadata": {},
   "outputs": [],
   "source": [
    "vae_config = create_vae_diffusers_config()\n",
    "#converted_vae_checkpoint = convert_ldm_vae_checkpoint(state_dict, vae_config)\n",
    "vae = AutoencoderKL(**vae_config)\n",
    "#vae.load_state_dict_stat(converted_vae_checkpoint)"
   ]
  },
  {
   "cell_type": "code",
   "execution_count": null,
   "id": "d2b587c5-9abb-4b9e-a879-3cf9a5202908",
   "metadata": {
    "tags": []
   },
   "outputs": [],
   "source": [
    "# Noise Process"
   ]
  },
  {
   "cell_type": "code",
   "execution_count": null,
   "id": "974ea74c-cd22-4254-918e-6eda0b866102",
   "metadata": {},
   "outputs": [],
   "source": [
    "# Unet"
   ]
  },
  {
   "cell_type": "code",
   "execution_count": null,
   "id": "67ba80fe-374e-421e-b3ce-93b8e599bd7f",
   "metadata": {},
   "outputs": [],
   "source": [
    "from diffusers import UNet2DConditionModel"
   ]
  },
  {
   "cell_type": "code",
   "execution_count": null,
   "id": "8f0761a1-3c34-4dbb-b9a9-ef9207a0ccc7",
   "metadata": {},
   "outputs": [],
   "source": [
    "UNET_PARAMS_ATTENTION_RESOLUTIONS = [4, 2, 1]\n",
    "def create_unet_diffusers_config():\n",
    "    \n",
    "    block_out_channels = [320, 640, 1280, 1280]\n",
    "    \n",
    "    down_block_types = []\n",
    "    resolution = 1\n",
    "    for i in range(len(block_out_channels)):\n",
    "        block_type = \"CrossAttnDownBlock2D\" if resolution in UNET_PARAMS_ATTENTION_RESOLUTIONS else \"DownBlock2D\"\n",
    "        down_block_types.append(block_type)\n",
    "        if i != len(block_out_channels) - 1:\n",
    "            resolution *= 2\n",
    "    \n",
    "    up_block_types = []\n",
    "    for i in range(len(block_out_channels)):\n",
    "        block_type = \"CrossAttnUpBlock2D\" if resolution in UNET_PARAMS_ATTENTION_RESOLUTIONS else \"UpBlock2D\"\n",
    "        up_block_types.append(block_type)\n",
    "        resolution //= 2\n",
    "    \n",
    "    config = dict(\n",
    "        sample_size=64,\n",
    "        in_channels=4,\n",
    "        out_channels=4,\n",
    "        down_block_types=down_block_types,\n",
    "        up_block_types=up_block_types,\n",
    "        block_out_channels=block_out_channels,\n",
    "        layers_per_block=2,\n",
    "        cross_attention_dim=768,\n",
    "        attention_head_dim=8\n",
    "    )\n",
    "    \n",
    "    return config"
   ]
  },
  {
   "cell_type": "code",
   "execution_count": null,
   "id": "e33526ee-b5d6-4d88-8037-3f748cd34f0f",
   "metadata": {},
   "outputs": [],
   "source": [
    "unet_config = create_unet_diffusers_config()\n",
    "unet = UNet2DConditionModel(**unet_config)"
   ]
  },
  {
   "cell_type": "code",
   "execution_count": null,
   "id": "3c28104e-960c-4a69-8907-3dce9fd4b2b4",
   "metadata": {},
   "outputs": [],
   "source": [
    "image = torch.randn((1,3,576,576)).to(dtype=torch.float32)\n",
    "image"
   ]
  },
  {
   "cell_type": "code",
   "execution_count": null,
   "id": "32ebda93-71bc-46a2-a753-3d74806b75a7",
   "metadata": {},
   "outputs": [],
   "source": [
    "latents = vae.encode(image).latent_dist.sample()\n",
    "# 还没明白是啥意思，好像为了统一方差啥的\n",
    "latents = latents * 0.18215\n",
    "b_size = latents.shape[0]"
   ]
  },
  {
   "cell_type": "code",
   "execution_count": null,
   "id": "bb14616e-4ece-408b-ba1c-dd6ec7e4f512",
   "metadata": {},
   "outputs": [],
   "source": [
    "encoder_hidden_states = get_hidden_states(max_token_length, input_ids, tokenizer, text_encoder)"
   ]
  },
  {
   "cell_type": "code",
   "execution_count": null,
   "id": "ff1c9bd7-6e6d-4b92-97ea-f73dc70654dd",
   "metadata": {},
   "outputs": [],
   "source": [
    "noise = torch.randn_like(latents, device=latents.deivce)\n",
    "\n",
    "# diffusion-with-offset-noise\n",
    "# noise_offset = 0.\n",
    "# noise += noise_offset * torch.((latents.shape[0], latents.shape[1], 1, 1), device=latents.device)\n",
    "\n"
   ]
  },
  {
   "cell_type": "code",
   "execution_count": null,
   "id": "dbd81ef7-8127-47ef-831b-091e6bc38cce",
   "metadata": {
    "tags": []
   },
   "outputs": [],
   "source": [
    "from diffusers import DDPMScheduler"
   ]
  },
  {
   "cell_type": "code",
   "execution_count": null,
   "id": "4d28efc2-7574-40a7-9a08-5d701143cc6b",
   "metadata": {
    "tags": []
   },
   "outputs": [],
   "source": [
    "noise_scheduler = DDPMScheduler(beta_start=0.00085, beta_end=0.012, beta_schedule=\"scaled_linear\", num_train_timesteps=1000, clip_sample=False)"
   ]
  },
  {
   "cell_type": "code",
   "execution_count": null,
   "id": "0cf6e8de-2fe8-4475-8a24-d97a732e5c64",
   "metadata": {
    "tags": []
   },
   "outputs": [],
   "source": [
    "timesteps = torch.randint(0, noise_scheduler.config.num_train_timesteps, (b_size,))\n",
    "timesteps = timesteps.long()"
   ]
  },
  {
   "cell_type": "code",
   "execution_count": null,
   "id": "ef201b7c-c243-41d5-b1d6-e1e176e7e059",
   "metadata": {},
   "outputs": [],
   "source": [
    "noisy_latents = noise_scheduler.add_noisead(latents, noise, timesteps)"
   ]
  },
  {
   "cell_type": "code",
   "execution_count": null,
   "id": "7a97fb0f-5f95-458d-a91b-2fa759cf7e3a",
   "metadata": {},
   "outputs": [],
   "source": [
    "noise_pred = unet(noisy_latents, timesteps, encoder_hidden_states).sample"
   ]
  },
  {
   "cell_type": "code",
   "execution_count": null,
   "id": "3df43cfd-1974-4bc9-97cf-21e72356e1b9",
   "metadata": {},
   "outputs": [],
   "source": [
    "a = torch.tensor([3])\n",
    "a.expand(4)"
   ]
  },
  {
   "cell_type": "code",
   "execution_count": 1,
   "id": "88682d57-002e-42c9-b995-0c05b4d8f2c6",
   "metadata": {
    "tags": []
   },
   "outputs": [
    {
     "name": "stderr",
     "output_type": "stream",
     "text": [
      "/opt/anaconda3/envs/my/lib/python3.8/site-packages/tqdm/auto.py:21: TqdmWarning: IProgress not found. Please update jupyter and ipywidgets. See https://ipywidgets.readthedocs.io/en/stable/user_install.html\n",
      "  from .autonotebook import tqdm as notebook_tqdm\n"
     ]
    }
   ],
   "source": [
    "import platform\n",
    "\n",
    "import torch\n",
    "import numpy as np\n",
    "from PIL import Image\n",
    "from transformers import CLIPTextModel, CLIPTokenizer\n",
    "from diffusers import AutoencoderKL, UNet2DConditionModel, DDPMScheduler"
   ]
  },
  {
   "cell_type": "code",
   "execution_count": 2,
   "id": "7793e7c2-e8bc-4ade-a7b8-0a2595bdc1a1",
   "metadata": {
    "tags": []
   },
   "outputs": [],
   "source": [
    "if platform.system() == \"Darwin\":\n",
    "    device = \"mps\"\n",
    "else:\n",
    "    device = \"cuda\" if torch.cuda.is_available else \"cpu\""
   ]
  },
  {
   "cell_type": "code",
   "execution_count": 3,
   "id": "6eeb9092-dc63-4fd8-86f5-fb9661dcedc8",
   "metadata": {},
   "outputs": [],
   "source": [
    "# vae_config\n",
    "def create_vae_diffusers_config():\n",
    "    block_out_channels = [128, 256, 512, 512]\n",
    "    down_block_types = [\"DownEncoderBlock2D\"] * len(block_out_channels)\n",
    "    up_block_types = [\"UpDecoderBlock2D\"] * len(block_out_channels)\n",
    "    \n",
    "    config = dict(\n",
    "        sample_size=256,\n",
    "        in_channels=3,\n",
    "        out_channels=3,\n",
    "        down_block_types=tuple(down_block_types),\n",
    "        up_block_types=tuple(up_block_types),\n",
    "        block_out_channels=block_out_channels,\n",
    "        latent_channels=4,\n",
    "        layers_per_block=2\n",
    "    )\n",
    "    return config\n",
    "\n",
    "\n",
    "# unet_config\n",
    "UNET_PARAMS_ATTENTION_RESOLUTIONS = [4, 2, 1]\n",
    "def create_unet_diffusers_config():\n",
    "    \n",
    "    block_out_channels = [320, 640, 1280, 1280]\n",
    "    \n",
    "    down_block_types = []\n",
    "    resolution = 1\n",
    "    for i in range(len(block_out_channels)):\n",
    "        block_type = \"CrossAttnDownBlock2D\" if resolution in UNET_PARAMS_ATTENTION_RESOLUTIONS else \"DownBlock2D\"\n",
    "        down_block_types.append(block_type)\n",
    "        if i != len(block_out_channels) - 1:\n",
    "            resolution *= 2\n",
    "    \n",
    "    up_block_types = []\n",
    "    for i in range(len(block_out_channels)):\n",
    "        block_type = \"CrossAttnUpBlock2D\" if resolution in UNET_PARAMS_ATTENTION_RESOLUTIONS else \"UpBlock2D\"\n",
    "        up_block_types.append(block_type)\n",
    "        resolution //= 2\n",
    "    \n",
    "    config = dict(\n",
    "        sample_size=64,\n",
    "        in_channels=4,\n",
    "        out_channels=4,\n",
    "        down_block_types=down_block_types,\n",
    "        up_block_types=up_block_types,\n",
    "        block_out_channels=block_out_channels,\n",
    "        layers_per_block=2,\n",
    "        cross_attention_dim=768,\n",
    "        attention_head_dim=8\n",
    "    )\n",
    "    return config\n",
    "\n"
   ]
  },
  {
   "cell_type": "code",
   "execution_count": 4,
   "id": "c3dc32ad-a8a4-4fd8-988c-737c8d08c216",
   "metadata": {},
   "outputs": [],
   "source": [
    "def get_model(vae_config, unet_config, text_encoder_name):\n",
    "\n",
    "    #converted_vae_checkpoint = convert_ldm_vae_checkpoint(state_dict, vae_config)\n",
    "    vae = AutoencoderKL(**vae_config)\n",
    "    #vae.load_state_dict_stat(converted_vae_checkpoint)\n",
    "    \n",
    "    unet = UNet2DConditionModel(**unet_config)\n",
    "    #unet.load_state_dict_stat()\n",
    "    \n",
    "    text_encoder = CLIPTextModel.from_pretrained(text_encoder_name)\n",
    "    \n",
    "    vae.to(device)\n",
    "    unet.to(device)\n",
    "    text_encoder.to(device)\n",
    "    \n",
    "    return vae, unet, text_encoder"
   ]
  },
  {
   "cell_type": "code",
   "execution_count": null,
   "id": "a243aa12-d652-44ad-9530-41f610a9ff29",
   "metadata": {},
   "outputs": [],
   "source": [
    "# prepare model\n",
    "tokenizer_name = \"openai/clip-vit-large-patch14\"\n",
    "vae_config = create_vae_diffusers_config()\n",
    "unet_config = create_unet_diffusers_config()\n",
    "text_encoder_name = \"openai/clip-vit-large-patch14\"\n",
    "\n",
    "tokenizer = CLIPTokenizer.from_pretrained(tokenizer_name, padd)\n",
    "noise_scheduler = DDPMScheduler(beta_start=0.00085, beta_end=0.012, beta_schedule=\"scaled_linear\", num_train_timesteps=1000, clip_sample=False)\n",
    "vae, unet, text_encoder = get_model(vae_config, unet_config, text_encoder_name)"
   ]
  },
  {
   "cell_type": "code",
   "execution_count": 6,
   "id": "8a61fb49-2758-42b0-8e6e-41fdff19a73b",
   "metadata": {},
   "outputs": [],
   "source": [
    "# 1.get latents code from vae\n",
    "# 2.add noise to latents code\n",
    "# 3.encode text to hidden states by clip model\n",
    "# 4.Integate noisy latents to hidden states\n",
    "# 5.predict noise by unet\n",
    "# 6.backward diffusion to get latents code without noise\n",
    "# 7.get image by vae decoder"
   ]
  },
  {
   "cell_type": "code",
   "execution_count": 7,
   "id": "3b193e78-846f-4665-8376-32424b962cd5",
   "metadata": {
    "tags": []
   },
   "outputs": [],
   "source": [
    "image = Image.open(\"./my_pic.jpg\")\n",
    "image = np.array(image)\n",
    "image = torch.from_numpy(image).to(device=device, dtype=torch.float32)\n",
    "image = image.permute(2,0,1).unsqueeze(0)\n",
    "b_size = image.shape[0]"
   ]
  },
  {
   "cell_type": "code",
   "execution_count": 9,
   "id": "c262f1e5-97c5-4556-ab36-da2b2d9380fc",
   "metadata": {
    "tags": []
   },
   "outputs": [],
   "source": [
    "# 1.get latents code from vae\n",
    "with torch.no_grad():\n",
    "    latents = vae.encode(image).latent_dist.sample()"
   ]
  },
  {
   "cell_type": "code",
   "execution_count": 12,
   "id": "8b0034a5-d8de-4f5a-a4ab-28891c19c063",
   "metadata": {
    "tags": []
   },
   "outputs": [],
   "source": [
    "# 2.add noise to latents code\n",
    "noise = torch.randn_like(latents, device=latents.device)\n",
    "timesteps = torch.randint(0, noise_scheduler.config.num_train_timesteps, (b_size,), device=latents.device)\n",
    "timesteps = timesteps.long()\n",
    "noisy_latents = noise_scheduler.add_noise(latents, noise, timesteps)"
   ]
  },
  {
   "cell_type": "code",
   "execution_count": 46,
   "id": "47533702-8001-4e80-9e81-185b76ba1acd",
   "metadata": {
    "tags": []
   },
   "outputs": [
    {
     "data": {
      "text/plain": [
       "tensor([[49406,   320,  1212,  2087,   530,   518,  1253,   539,   518,  3965,\n",
       "           267,   518,  1212,   533, 13589,   638,  1901,  5922,   267,   518,\n",
       "          2390,   533,  1746,   537, 13106,   269, 49407, 49407, 49407, 49407,\n",
       "         49407, 49407, 49407, 49407, 49407, 49407, 49407, 49407, 49407, 49407,\n",
       "         49407, 49407, 49407, 49407, 49407, 49407, 49407, 49407, 49407, 49407,\n",
       "         49407, 49407, 49407, 49407, 49407, 49407, 49407, 49407, 49407, 49407,\n",
       "         49407, 49407, 49407, 49407, 49407, 49407, 49407, 49407, 49407, 49407,\n",
       "         49407, 49407, 49407, 49407, 49407, 49407, 49407]], device='mps:0')"
      ]
     },
     "execution_count": 46,
     "metadata": {},
     "output_type": "execute_result"
    }
   ],
   "source": [
    "# 3.encode text to hidden states by clip model\n",
    "text = \"a house stand in the top of the mountain, the house is surrounded by green grass, the sky is blue and cloudy.\"\n",
    "input_ids = tokenizer(text,padding=\"max_length\",truncation=True,return_tensors=\"pt\")['input_ids']\n",
    "input_ids = input_ids.expand(b_size,-1).to(device)\n",
    "input_ids"
   ]
  },
  {
   "cell_type": "code",
   "execution_count": 43,
   "id": "78756105-0fbf-40ac-a861-2d5bf773e44e",
   "metadata": {},
   "outputs": [],
   "source": [
    "def get_hidden_states(input_ids, tokenizer, text_encoder, weight_dtype=None):\n",
    "    b_size = input_ids.size()[0]\n",
    "    input_ids = input_ids.reshape((-1, tokenizer.model_max_length))\n",
    "    \n",
    "    encoder_hidden_states = text_encoder(input_ids)[0]\n",
    "    encoder_hidden_states = encoder_hidden_states.reshape((b_size, -1, encoder_hidden_states.shape[-1]))\n",
    "    \n",
    "    states_list = [encoder_hidden_states[:, 0].unsqueeze(1)]\n",
    "    # 这里循环的意思是每次跳过77个字符，77是分词模型的最大长度\n",
    "    for i in range(1, max_token_length, tokenizer.model_max_length):\n",
    "        states_list.append(encoder_hidden_states[:, i:i+tokenizer.model_max_length - 2])\n",
    "    states_list.append(encoder_hidden_states[:, -1].unsqueeze(1))\n",
    "    encoder_hidden_states = torch.cat(states_list, dim=1)\n",
    "    return encoder_hidden_states"
   ]
  },
  {
   "cell_type": "code",
   "execution_count": 44,
   "id": "2d8928a9-268d-4154-ab49-cdcc6d44480f",
   "metadata": {
    "tags": []
   },
   "outputs": [
    {
     "ename": "AttributeError",
     "evalue": "'CLIPTextModel' object has no attribute 'model_max_length'",
     "output_type": "error",
     "traceback": [
      "\u001b[0;31m---------------------------------------------------------------------------\u001b[0m",
      "\u001b[0;31mAttributeError\u001b[0m                            Traceback (most recent call last)",
      "Cell \u001b[0;32mIn[44], line 1\u001b[0m\n\u001b[0;32m----> 1\u001b[0m hidden_states \u001b[38;5;241m=\u001b[39m \u001b[43mget_hidden_states\u001b[49m\u001b[43m(\u001b[49m\u001b[43minput_ids\u001b[49m\u001b[43m,\u001b[49m\u001b[43m \u001b[49m\u001b[43mtokenizer\u001b[49m\u001b[43m,\u001b[49m\u001b[43m \u001b[49m\u001b[43mtext_encoder\u001b[49m\u001b[43m,\u001b[49m\u001b[43m \u001b[49m\u001b[43mweight_dtype\u001b[49m\u001b[38;5;241;43m=\u001b[39;49m\u001b[43mtorch\u001b[49m\u001b[38;5;241;43m.\u001b[39;49m\u001b[43mfloat32\u001b[49m\u001b[43m)\u001b[49m\n",
      "Cell \u001b[0;32mIn[43], line 2\u001b[0m, in \u001b[0;36mget_hidden_states\u001b[0;34m(input_ids, tokenizer, text_encoder, weight_dtype)\u001b[0m\n\u001b[1;32m      1\u001b[0m \u001b[38;5;28;01mdef\u001b[39;00m \u001b[38;5;21mget_hidden_states\u001b[39m(input_ids, tokenizer, text_encoder, weight_dtype\u001b[38;5;241m=\u001b[39m\u001b[38;5;28;01mNone\u001b[39;00m):\n\u001b[0;32m----> 2\u001b[0m     max_token_length \u001b[38;5;241m=\u001b[39m \u001b[43mtext_encoder\u001b[49m\u001b[38;5;241;43m.\u001b[39;49m\u001b[43mmodel_max_length\u001b[49m\n\u001b[1;32m      3\u001b[0m     b_size \u001b[38;5;241m=\u001b[39m input_ids\u001b[38;5;241m.\u001b[39msize()[\u001b[38;5;241m0\u001b[39m]\n\u001b[1;32m      4\u001b[0m     input_ids \u001b[38;5;241m=\u001b[39m input_ids\u001b[38;5;241m.\u001b[39mreshape((\u001b[38;5;241m-\u001b[39m\u001b[38;5;241m1\u001b[39m, tokenizer\u001b[38;5;241m.\u001b[39mmodel_max_length))\n",
      "File \u001b[0;32m/opt/anaconda3/envs/my/lib/python3.8/site-packages/torch/nn/modules/module.py:1269\u001b[0m, in \u001b[0;36mModule.__getattr__\u001b[0;34m(self, name)\u001b[0m\n\u001b[1;32m   1267\u001b[0m     \u001b[38;5;28;01mif\u001b[39;00m name \u001b[38;5;129;01min\u001b[39;00m modules:\n\u001b[1;32m   1268\u001b[0m         \u001b[38;5;28;01mreturn\u001b[39;00m modules[name]\n\u001b[0;32m-> 1269\u001b[0m \u001b[38;5;28;01mraise\u001b[39;00m \u001b[38;5;167;01mAttributeError\u001b[39;00m(\u001b[38;5;124m\"\u001b[39m\u001b[38;5;124m'\u001b[39m\u001b[38;5;132;01m{}\u001b[39;00m\u001b[38;5;124m'\u001b[39m\u001b[38;5;124m object has no attribute \u001b[39m\u001b[38;5;124m'\u001b[39m\u001b[38;5;132;01m{}\u001b[39;00m\u001b[38;5;124m'\u001b[39m\u001b[38;5;124m\"\u001b[39m\u001b[38;5;241m.\u001b[39mformat(\n\u001b[1;32m   1270\u001b[0m     \u001b[38;5;28mtype\u001b[39m(\u001b[38;5;28mself\u001b[39m)\u001b[38;5;241m.\u001b[39m\u001b[38;5;18m__name__\u001b[39m, name))\n",
      "\u001b[0;31mAttributeError\u001b[0m: 'CLIPTextModel' object has no attribute 'model_max_length'"
     ]
    }
   ],
   "source": [
    "hidden_states = get_hidden_states(input_ids, tokenizer, text_encoder, weight_dtype=torch.float32)"
   ]
  },
  {
   "cell_type": "code",
   "execution_count": 49,
   "id": "7d74a76f-9021-49d4-aec0-54a42e24deed",
   "metadata": {
    "tags": []
   },
   "outputs": [
    {
     "data": {
      "text/plain": [
       "torch.Size([1, 77, 768])"
      ]
     },
     "execution_count": 49,
     "metadata": {},
     "output_type": "execute_result"
    }
   ],
   "source": [
    "text_encoder(input_ids)[0].shape"
   ]
  },
  {
   "cell_type": "code",
   "execution_count": null,
   "id": "5aab2541-01a9-4f01-a0e5-7fc894702922",
   "metadata": {},
   "outputs": [],
   "source": []
  }
 ],
 "metadata": {
  "kernelspec": {
   "display_name": "my",
   "language": "python",
   "name": "my"
  },
  "language_info": {
   "codemirror_mode": {
    "name": "ipython",
    "version": 3
   },
   "file_extension": ".py",
   "mimetype": "text/x-python",
   "name": "python",
   "nbconvert_exporter": "python",
   "pygments_lexer": "ipython3",
   "version": "3.8.16"
  }
 },
 "nbformat": 4,
 "nbformat_minor": 5
}
