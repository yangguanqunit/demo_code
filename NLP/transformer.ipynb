{
 "cells": [
  {
   "cell_type": "code",
   "execution_count": 1,
   "id": "d1a4333d-5a9e-4ba7-a49c-1422e39130b1",
   "metadata": {
    "tags": []
   },
   "outputs": [
    {
     "name": "stderr",
     "output_type": "stream",
     "text": [
      "/opt/anaconda3/envs/my/lib/python3.8/site-packages/tqdm/auto.py:21: TqdmWarning: IProgress not found. Please update jupyter and ipywidgets. See https://ipywidgets.readthedocs.io/en/stable/user_install.html\n",
      "  from .autonotebook import tqdm as notebook_tqdm\n"
     ]
    }
   ],
   "source": [
    "import torch\n",
    "import torch.nn as nn\n",
    "import torch.nn.functional as F"
   ]
  },
  {
   "cell_type": "code",
   "execution_count": 3,
   "id": "c79bba1a-19a6-4947-b603-41061575062d",
   "metadata": {
    "tags": []
   },
   "outputs": [],
   "source": [
    "class PositionwiseFeedForward(nn.Module):\n",
    "    def __init__(self, d_model, hidden, drop_prob=0.1):\n",
    "        self.fc1 = nn.Linear(d_model, hidden)\n",
    "        self.fc2 = nn.Linear(hidden, d_model)\n",
    "        self.relu == nn.ReLU()\n",
    "        self.dropout = nn.Dropout(p=drop_prob)\n",
    "        \n",
    "    def forward(self, x):\n",
    "        x = self.fc1(x)\n",
    "        x = self.relu(x)\n",
    "        x = self.dropout(x)\n",
    "        x = self.fc2(x)\n",
    "        return x"
   ]
  },
  {
   "cell_type": "code",
   "execution_count": null,
   "id": "938c2292-e112-47ac-9dce-637cbfb53315",
   "metadata": {},
   "outputs": [],
   "source": [
    "import math\n",
    "class ScaleDotProductAttention(nn.Module):\n",
    "    def __init__(self):\n",
    "        super(ScaleDotProductAttention, self).__init__()\n",
    "        self.softmax == nn.Softmax(dim=-1)\n",
    "        \n",
    "    def forward(self, q, k, v, mask=None, e=1e-12):\n",
    "        # the input is [batch_size, head, length, dim]\n",
    "        # dim表示每个词向量的维度\n",
    "        batch_size, head, length, dim = k.size()\n",
    "        \n",
    "        k_t = k.transpose(2, 3)\n",
    "        score = (q @ k) / math.sqrt(dim)\n",
    "        if mask is not None:\n",
    "            score = score.masked_fill(mask == 0, -10000)\n",
    "        \n",
    "        score = self.softmax(score)\n",
    "        \n",
    "        v = score @ v\n",
    "        \n",
    "        return v, score"
   ]
  },
  {
   "cell_type": "code",
   "execution_count": null,
   "id": "02104303-d00f-4a8e-a158-149af6da49b0",
   "metadata": {},
   "outputs": [],
   "source": [
    "class transformer_blocks(nn.Module):\n",
    "    \n",
    "    def __init__(self):\n",
    "        super(transformer_blocks, self).__init__()\n",
    "        "
   ]
  },
  {
   "cell_type": "code",
   "execution_count": 30,
   "id": "e24c75ca-59e5-4f9e-b7b0-e2b11329e1ae",
   "metadata": {
    "tags": []
   },
   "outputs": [
    {
     "data": {
      "text/plain": [
       "tensor([[[0.5000, 0.5000, 0.5000],\n",
       "         [0.5000, 0.5000, 0.5000]],\n",
       "\n",
       "        [[0.5000, 0.5000, 0.5000],\n",
       "         [0.5000, 0.5000, 0.5000]]], dtype=torch.float64)"
      ]
     },
     "execution_count": 30,
     "metadata": {},
     "output_type": "execute_result"
    }
   ],
   "source": [
    "a = torch.tensor([[[1,2,3],[4,5,6]], [[1,2,3],[4,5,6]]], dtype=float)\n",
    "F.softmax(a,0)"
   ]
  },
  {
   "cell_type": "code",
   "execution_count": 18,
   "id": "c1742396-a0f1-40ee-bc9f-e9904c11f689",
   "metadata": {
    "tags": []
   },
   "outputs": [
    {
     "data": {
      "text/plain": [
       "tensor([1, 4])"
      ]
     },
     "execution_count": 18,
     "metadata": {},
     "output_type": "execute_result"
    }
   ],
   "source": []
  },
  {
   "cell_type": "code",
   "execution_count": null,
   "id": "5e205985-d30a-493d-9874-d59586693856",
   "metadata": {},
   "outputs": [],
   "source": []
  }
 ],
 "metadata": {
  "kernelspec": {
   "display_name": "my",
   "language": "python",
   "name": "my"
  },
  "language_info": {
   "codemirror_mode": {
    "name": "ipython",
    "version": 3
   },
   "file_extension": ".py",
   "mimetype": "text/x-python",
   "name": "python",
   "nbconvert_exporter": "python",
   "pygments_lexer": "ipython3",
   "version": "3.8.16"
  }
 },
 "nbformat": 4,
 "nbformat_minor": 5
}
