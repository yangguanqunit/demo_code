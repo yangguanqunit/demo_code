{
 "cells": [
  {
   "cell_type": "markdown",
   "id": "14bf3487",
   "metadata": {},
   "source": [
    "# **一个Advantage Actor-Critic算法的简单实现**\n",
    "## **算法概述**\n",
    "- 采用批输入数据的方式加速训练;\n",
    "- 批输入的数据包括TD误差以及log概率;\n",
    "- 采用TD误差进行批处理训练过程及其不稳定，很难训起来。\n"
   ]
  },
  {
   "cell_type": "code",
   "execution_count": 3,
   "id": "6aad9448",
   "metadata": {
    "collapsed": false,
    "jupyter": {
     "outputs_hidden": false
    },
    "tags": []
   },
   "outputs": [],
   "source": [
    "import torch\n",
    "import torch.nn as nn\n",
    "import torch.optim as optim\n",
    "import torch.nn.functional as F"
   ]
  },
  {
   "cell_type": "code",
   "execution_count": 4,
   "id": "e59d7e1d-b0a7-4dd9-a102-90848f454f05",
   "metadata": {
    "tags": []
   },
   "outputs": [],
   "source": [
    "import platform\n",
    "if platform.system == \"Darwin\":\n",
    "    PYTORCH_ENABLE_MPS_FALLBACK = 1\n",
    "    device = \"mps\"\n",
    "else:\n",
    "    device = \"cuda\" if torch.cuda.is_available() else \"cpu\""
   ]
  },
  {
   "cell_type": "code",
   "execution_count": 6,
   "id": "05641c2a",
   "metadata": {
    "collapsed": false,
    "jupyter": {
     "outputs_hidden": false
    }
   },
   "outputs": [],
   "source": [
    "class A3CTrainer(nn.Module):\n",
    "    def __init__(self, env):\n",
    "        super(A3CTrainer, self).__init__()\n",
    "        self.state_dim = env.observation_space.shape[0]\n",
    "        self.action_dim = env.action_space.n\n",
    "\n",
    "    def create_training_network(self):\n",
    "        self.fc = nn.Linear(self.state_dim, 20)\n",
    "        self.value = nn.Sequential(self.fc, nn.ReLU(), nn.Linear(20,1))\n",
    "        self.actor = nn.Sequential(self.fc, nn.ReLU(), nn.Linear(20, self.action_dim))\n",
    "\n",
    "    def create_training_method(self):\n",
    "        self.optim = optim(self.parameters(), lr=0.001)\n",
    "    \n",
    "    def choose_action(self, state):\n",
    "        with torch.no_grad():\n",
    "            action_logits = self.actor(state)\n",
    "            action_probs = F.softmax(action_logits, dim=-1)\n",
    "            action = torch.multinomial(action_probs,1).item()\n",
    "        return action, action_probs[action]\n",
    "    \n",
    "    def sync_grad(self, policy_agent:nn.Module):\n",
    "        for behavior_param, target_param in zip(policy_agent.parameters(), self.parameters()):\n",
    "            if target_param is not None:\n",
    "                break\n",
    "            target_param._grad = behavior_param.grad\n",
    "    def update_model(self):\n",
    "        \n",
    "        self.optim.step()\n",
    "        "
   ]
  },
  {
   "cell_type": "code",
   "execution_count": 10,
   "id": "202b2581-4747-4d9c-87c3-fc708bc7c2ce",
   "metadata": {
    "tags": []
   },
   "outputs": [],
   "source": [
    "class PolicyAgent(nn.Module):\n",
    "    GAMMA = 0.9\n",
    "    \n",
    "    def __init__(self):\n",
    "        super(policy_agent, self).__init__()\n",
    "        self.create_policy_network()\n",
    "        \n",
    "        self.state_batch = []\n",
    "        self.action_batch = []\n",
    "        self.reward_batch = []\n",
    "        self.next_state_batch = []\n",
    "        \n",
    "    def create_policy_network(self):\n",
    "        self.fc = nn.Linear(self.state_dim, 20)\n",
    "        self.critic = nn.Sequential(self.fc, nn.ReLU(), nn.Linear(20,1))\n",
    "        self.actor = nn.Sequential(self.fc, nn.ReLU(), nn.Linear(20, self.action_dim))\n",
    "    \n",
    "    def choose_action(self, state):\n",
    "        with torch.no_grad():\n",
    "            state = torch.tensor(state, device=device)\n",
    "            action_logits = self.actor(state)\n",
    "            action_probs = F.softmax(action_logits,dim=-1)\n",
    "            action = torch.multinomial(action_probs, 1).item()\n",
    "            return action\n",
    "\n",
    "    def calculate_batch_td_error(self, state_batch, reward_batch, next_batch):\n",
    "        td_target = reward_batch + self.GAMMA * self.critic(next_batch)\n",
    "        value = self.critic(state_batch)\n",
    "        td_error = td_target - value\n",
    "        return td_error\n",
    "    \n",
    "    def calculate_policy_loss(self, state_batch, action_batch, td_errors):\n",
    "        action_logits_batch = self.actor(state_batch)\n",
    "        log_probs = torch.log(F.softmax(action_logits_batch, dim=-1))\n",
    "        action_log_probs = torch.gather(log_probs,1,action_batch.unsqueeze(-1)).squeeze(-1)\n",
    "        policy_loss = action_log_probs * td_errors\n",
    "        return policy_loss\n",
    "        \n",
    "    def perceive(self, state, action, reward, next_state):\n",
    "        self.state_batch.append(state)\n",
    "        self.action_batch.append(action)\n",
    "        self.reward_batch.append(reward)\n",
    "        self.next_state_batch.append(next_state)\n",
    "    \n",
    "    def calculate_grad(self):\n",
    "        state_batch = torch.tensor(self.state_batch, device=device)\n",
    "        action_batch = torch.tensor(self.action_batch, device=device)\n",
    "        reward_batch = torch.tensor(self.reward_batch, device=device)\n",
    "        next_state_batch = torch.tensor(self.next_state_batch, device=device)\n",
    "        \n",
    "        td_error = self.calculate_batch_td_error(state_batch, reward_batch, next_state_batch)\n",
    "        \n",
    "        value_loss = torch.square(td_errors).mean()\n",
    "        policy_loss = self.calculate_policy_loss(state_batch, action_batch, td_errors.detach()).mean()\n",
    "        loss = value_loss - policy_loss\n",
    "        loss.backward()\n",
    "        \n",
    "    \n",
    "    def sync_model(self,model_dict):\n",
    "        self.load_state_dict(model_dict)\n",
    "        \n",
    "    def clear_list(self):\n",
    "        self.state_batch.clear()\n",
    "        self.action_batch.clear()\n",
    "        self.reward_batch.clear()\n",
    "        self.next_state_batch.clear()\n",
    "        "
   ]
  },
  {
   "cell_type": "code",
   "execution_count": 8,
   "id": "a834bf1f-45a8-4b86-a2d7-3ec5ea5f78a9",
   "metadata": {},
   "outputs": [],
   "source": [
    "import gym\n",
    "env_name = \"CartPole-v1\"\n",
    "env = gym.make(env_name)\n",
    "\n",
    "policy_agent = PolicyAgent(env)\n",
    "target_agent = A3CTrainer(env)"
   ]
  },
  {
   "cell_type": "code",
   "execution_count": 1,
   "id": "3da5fa99-7ff1-425f-88df-6ea0c44fc971",
   "metadata": {},
   "outputs": [],
   "source": [
    "def main():\n",
    "    for epoch in range(3000):\n",
    "        state = env.reset()\n",
    "        for step in range(300):\n",
    "            action, action_probs = policy_agent.choose_action(state)\n",
    "            next_state, reward, done, _, _ = env.step(action)\n",
    "            target_agent.train_loop(state, action, reward, next_state, action_probs)\n",
    "        \n",
    "            \n",
    "            "
   ]
  },
  {
   "cell_type": "code",
   "execution_count": 2,
   "id": "6c2079c0-71d9-47e0-8bc5-07b0a3258881",
   "metadata": {
    "tags": []
   },
   "outputs": [],
   "source": [
    "if __name__ == \"__main__\":\n",
    "    main()"
   ]
  },
  {
   "cell_type": "markdown",
   "id": "9e515772-d45b-4657-8dd0-46d72f3acd91",
   "metadata": {},
   "source": [
    "## 实验记录 \n",
    "2023-3-8\n",
    "1. 实现了部分A3C算法，还有获取行为策略的梯度部分以及"
   ]
  },
  {
   "cell_type": "code",
   "execution_count": null,
   "id": "52b894d3-a5c9-4d4c-9610-dcbe67200d02",
   "metadata": {},
   "outputs": [],
   "source": []
  }
 ],
 "metadata": {
  "kernelspec": {
   "display_name": "my",
   "language": "python",
   "name": "my"
  },
  "language_info": {
   "codemirror_mode": {
    "name": "ipython",
    "version": 3
   },
   "file_extension": ".py",
   "mimetype": "text/x-python",
   "name": "python",
   "nbconvert_exporter": "python",
   "pygments_lexer": "ipython3",
   "version": "3.8.15"
  }
 },
 "nbformat": 4,
 "nbformat_minor": 5
}
