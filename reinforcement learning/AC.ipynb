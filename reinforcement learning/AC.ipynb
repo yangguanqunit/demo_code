{
 "cells": [
  {
   "cell_type": "markdown",
   "id": "89871d9f-c6de-488c-8e59-74660ff43dc9",
   "metadata": {},
   "source": [
    "# 一个A3C算法的简单实现"
   ]
  },
  {
   "cell_type": "code",
   "execution_count": null,
   "id": "bfffcf1c-655c-40ca-81cb-d4091d7db7ac",
   "metadata": {},
   "outputs": [],
   "source": [
    "import torch\n",
    "import torch.nn as nn\n",
    "import torch.nn.functional as F\n",
    "import torch.optim as optim"
   ]
  },
  {
   "cell_type": "markdown",
   "id": "736315d4-fe10-435d-87a6-161b65f88061",
   "metadata": {},
   "source": [
    "## Creating ActorCritic model"
   ]
  },
  {
   "cell_type": "code",
   "execution_count": 35,
   "id": "93546163-3b36-42b0-863f-a84c7b787f95",
   "metadata": {},
   "outputs": [
    {
     "ename": "SyntaxError",
     "evalue": "invalid syntax (2081583185.py, line 10)",
     "output_type": "error",
     "traceback": [
      "\u001B[0;36m  Cell \u001B[0;32mIn[35], line 10\u001B[0;36m\u001B[0m\n\u001B[0;31m    self.actor = nn.\u001B[0m\n\u001B[0m                    ^\u001B[0m\n\u001B[0;31mSyntaxError\u001B[0m\u001B[0;31m:\u001B[0m invalid syntax\n"
     ]
    }
   ],
   "source": [
    "class ActorCriticTrainer(nn.Module):\n",
    "    def __init__(self, state_dim, action_dim):\n",
    "        super(ActorCriticTrainer, self).__init__()\n",
    "        self.state_dim = state_dim\n",
    "        self.action_dim = action_dim\n",
    "\n",
    "    def create_training_network(self):\n",
    "        self.fc1 = nn.Linear(self.state_dim, 20)\n",
    "        self.value = nn.Linear(20, 1)\n",
    "        self.actor = nn.Linear(20, self.action_dim)\n",
    "\n",
    "    def create_training_method(self):\n",
    "        self.optim = optim.SGD(self.model.parameters(),lr=0.001)\n",
    "        self.value_loss = nn.MSELoss()\n",
    "        self.actor_loss = nn.LogSoftmax(dim=-1)\n",
    "\n",
    "    def forward(self):\n",
    "        pass\n",
    "\n",
    "    def train_loop(self):\n",
    "        pass\n",
    "\n"
   ]
  },
  {
   "cell_type": "markdown",
   "id": "14549de2-a9de-40cb-8adb-d0b1a551ac82",
   "metadata": {},
   "source": [
    "## Creating atari envs"
   ]
  },
  {
   "cell_type": "code",
   "execution_count": null,
   "id": "b837e95b-4e55-496b-a7d1-3d929ccefaf6",
   "metadata": {},
   "outputs": [],
   "source": []
  },
  {
   "cell_type": "markdown",
   "id": "f996e09c-8602-4b43-9d8e-2075a24c31ce",
   "metadata": {},
   "source": [
    "## Train"
   ]
  },
  {
   "cell_type": "code",
   "execution_count": 1,
   "id": "1dc1c090-3f64-42bd-a9e1-f65ff1cce245",
   "metadata": {
    "tags": []
   },
   "outputs": [
    {
     "ename": "NameError",
     "evalue": "name 'nn' is not defined",
     "output_type": "error",
     "traceback": [
      "\u001B[0;31m---------------------------------------------------------------------------\u001B[0m",
      "\u001B[0;31mNameError\u001B[0m                                 Traceback (most recent call last)",
      "Cell \u001B[0;32mIn[1], line 7\u001B[0m\n\u001B[1;32m      4\u001B[0m             \u001B[38;5;28;01mreturn\u001B[39;00m\n\u001B[1;32m      5\u001B[0m         shared_param\u001B[38;5;241m.\u001B[39m_grad \u001B[38;5;241m=\u001B[39m param\u001B[38;5;241m.\u001B[39mgrad\n\u001B[0;32m----> 7\u001B[0m \u001B[38;5;28;01mdef\u001B[39;00m \u001B[38;5;21mtrain\u001B[39m(rank, args, shared_model:\u001B[43mnn\u001B[49m\u001B[38;5;241m.\u001B[39mModule, counter, lock, optimizer\u001B[38;5;241m=\u001B[39m\u001B[38;5;28;01mNone\u001B[39;00m):\n\u001B[1;32m      8\u001B[0m     torch\u001B[38;5;241m.\u001B[39mmanual_seed(args\u001B[38;5;241m.\u001B[39mseed \u001B[38;5;241m+\u001B[39m rank)\n\u001B[1;32m     10\u001B[0m     env \u001B[38;5;241m=\u001B[39m create_atari_env(args\u001B[38;5;241m.\u001B[39menv_name)\n",
      "\u001B[0;31mNameError\u001B[0m: name 'nn' is not defined"
     ]
    }
   ],
   "source": []
  },
  {
   "cell_type": "code",
   "execution_count": 6,
   "id": "24dc855e-bd20-406f-9fd1-41ef90ab5aae",
   "metadata": {
    "tags": []
   },
   "outputs": [
    {
     "name": "stdout",
     "output_type": "stream",
     "text": [
      "1 1\n"
     ]
    }
   ],
   "source": []
  },
  {
   "cell_type": "code",
   "execution_count": 11,
   "id": "f1083f4b-b438-469a-a14d-795aaca45cb4",
   "metadata": {
    "tags": []
   },
   "outputs": [
    {
     "name": "stdout",
     "output_type": "stream",
     "text": [
      "torch.Size([3, 224, 224])\n",
      "2\n"
     ]
    }
   ],
   "source": []
  },
  {
   "cell_type": "code",
   "execution_count": 34,
   "id": "5811bae0-61a6-4e5c-991b-b3036b3c2edb",
   "metadata": {
    "tags": []
   },
   "outputs": [
    {
     "data": {
      "text/plain": [
       "tensor([-1.0000e+00,  6.1232e-17,  1.0000e+00], dtype=torch.float64)"
      ]
     },
     "execution_count": 34,
     "metadata": {},
     "output_type": "execute_result"
    }
   ],
   "source": []
  },
  {
   "cell_type": "code",
   "execution_count": null,
   "id": "ece7b9db-cfd4-4369-aea9-48f4a88c087a",
   "metadata": {},
   "outputs": [],
   "source": []
  }
 ],
 "metadata": {
  "kernelspec": {
   "display_name": "my",
   "language": "python",
   "name": "my"
  },
  "language_info": {
   "codemirror_mode": {
    "name": "ipython",
    "version": 3
   },
   "file_extension": ".py",
   "mimetype": "text/x-python",
   "name": "python",
   "nbconvert_exporter": "python",
   "pygments_lexer": "ipython3",
   "version": "3.8.16"
  }
 },
 "nbformat": 4,
 "nbformat_minor": 5
}
