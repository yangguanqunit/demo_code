{
 "cells": [
  {
   "cell_type": "markdown",
   "id": "89871d9f-c6de-488c-8e59-74660ff43dc9",
   "metadata": {},
   "source": [
    "# 一个A3C算法的简单实现"
   ]
  },
  {
   "cell_type": "code",
   "execution_count": null,
   "id": "bfffcf1c-655c-40ca-81cb-d4091d7db7ac",
   "metadata": {},
   "outputs": [],
   "source": [
    "import torch\n",
    "import torch.nn as nn\n",
    "import torch.nn.functional as F\n",
    "import torch.optim as optim"
   ]
  },
  {
   "cell_type": "markdown",
   "id": "736315d4-fe10-435d-87a6-161b65f88061",
   "metadata": {},
   "source": [
    "## Creating ActorCritic model"
   ]
  },
  {
   "cell_type": "code",
   "execution_count": null,
   "id": "93546163-3b36-42b0-863f-a84c7b787f95",
   "metadata": {},
   "outputs": [],
   "source": [
    "class ActorCriticTrainer(nn.Module):\n",
    "    def __init__(self, state_dim, action_dim):\n",
    "        super(ActorCriticTrainer, self).__init__()\n",
    "        self.state_dim = state_dim\n",
    "        self.action_dim = action_dim\n",
    "\n",
    "    def create_training_network(self):\n",
    "        self.fc1 = nn.Linear(self.state_dim, 20)\n",
    "        self.value = nn.Sequential(self.fc1,nn.Relu(),nn.Linear(20,1))\n",
    "        self.actor = nn.Sequential(self.fc1,nn.Relu(),nn.Linear(20, self.action_dim))\n",
    "\n",
    "    def create_training_method(self):\n",
    "        self.optim = optim.SGD(self.model.parameters(),lr=0.001)\n",
    "        self.value_loss = nn.MSELoss()\n",
    "        self.actor_loss = nn.LogSoftmax(dim=-1)\n",
    "    \n",
    "    def choose_action(self, state):\n",
    "        with torch.no_grad():\n",
    "            action_probs = F.softmax(self.actor(state), dim=-1)\n",
    "            action = torch.multinomial(action_probs, 1)\n",
    "            return action\n",
    "\n",
    "    def train_loop(self):\n",
    "        pass\n",
    "        \n",
    "    \n",
    "class Actor(ActorCriticTrainer):\n",
    "    \n",
    "    def forward(self, state):\n",
    "        x = self.fc1(state)\n",
    "        actor_logits = self.actor(x)\n",
    "        return actor_logits\n",
    "\n",
    "\n",
    "class Critic(ActorCriticTrainer):\n",
    "    \n",
    "    def forward(self, state):\n",
    "        x = fc1(state)\n",
    "        value = self.value(x)\n",
    "        return value\n"
   ]
  },
  {
   "cell_type": "code",
   "execution_count": null,
   "id": "24dc855e-bd20-406f-9fd1-41ef90ab5aae",
   "metadata": {
    "tags": []
   },
   "outputs": [],
   "source": [
    "import gym\n",
    "env_name = \"CartPole-v1\"\n",
    "env = gym.make(env_name)\n",
    "agent = ActorCriticTrainer(env)"
   ]
  },
  {
   "cell_type": "code",
   "execution_count": null,
   "id": "f1083f4b-b438-469a-a14d-795aaca45cb4",
   "metadata": {
    "tags": []
   },
   "outputs": [],
   "source": [
    "def main():\n",
    "    "
   ]
  },
  {
   "cell_type": "code",
   "execution_count": null,
   "id": "5811bae0-61a6-4e5c-991b-b3036b3c2edb",
   "metadata": {
    "tags": []
   },
   "outputs": [],
   "source": [
    "if __name__ == \"__main__\":\n",
    "    main()"
   ]
  }
 ],
 "metadata": {
  "kernelspec": {
   "display_name": "dalle2",
   "language": "python",
   "name": "dalle2"
  },
  "language_info": {
   "codemirror_mode": {
    "name": "ipython",
    "version": 3
   },
   "file_extension": ".py",
   "mimetype": "text/x-python",
   "name": "python",
   "nbconvert_exporter": "python",
   "pygments_lexer": "ipython3",
   "version": "3.8.15"
  }
 },
 "nbformat": 4,
 "nbformat_minor": 5
}
