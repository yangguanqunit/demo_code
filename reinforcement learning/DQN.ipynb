{
 "cells": [
  {
   "cell_type": "markdown",
   "id": "0da7d66d-a698-4d19-a05f-1c92227997ac",
   "metadata": {},
   "source": [
    "# **一个普通DQN算法的简单实现**\n",
    "## **算法概述**\n",
    "- Q-learning算法的深度学习版\n",
    "- 将传统Q-Learning中的Q表替换为了神经网络\n",
    "    - 神经网络输入当前的状态（状态特征），输出各个动作的Q值\n",
    "    - 仅支持离散的动作环境\n",
    "- off-policy算法，value-based算法\n",
    "\n",
    "论文链接：*https://docs.popo.netease.com/docs/66926f6c39134373894976456da3132b*"
   ]
  },
  {
   "cell_type": "code",
   "execution_count": 1,
   "id": "03d098d7-dbdd-4f55-94b3-88d5f809b683",
   "metadata": {},
   "outputs": [],
   "source": [
    "import torch\n",
    "import random\n",
    "import numpy as np\n",
    "import torch.nn as nn\n",
    "import torch.optim as optim\n",
    "import torch.nn.functional as F\n",
    "from collections import deque"
   ]
  },
  {
   "cell_type": "code",
   "execution_count": 2,
   "id": "e5423fb9-668e-4a6a-8b50-a899dd6c88b5",
   "metadata": {},
   "outputs": [],
   "source": [
    "GAMMA = 0.9\n",
    "epsilon = 0.5\n",
    "start_epsilon = 0.5\n",
    "end_epsilon = 0.01\n",
    "replay_size = 10000\n",
    "batch_size = 32\n",
    "device = torch.device(\"cuda\" if torch.cuda.is_available() else \"cpu\")"
   ]
  },
  {
   "cell_type": "code",
   "execution_count": 3,
   "id": "b642cf34-fe3d-4d56-8301-a27deb6ba280",
   "metadata": {},
   "outputs": [],
   "source": [
    "class DQN(nn.Module):\n",
    "    def __init__(self, env):\n",
    "        super(DQN, self).__init__()\n",
    "        self.replay_buffer = deque()\n",
    "        self.state_dim = env.observation_space.shape[0]\n",
    "        self.action_dim = env.action_space.n\n",
    "        self.create_training_network()\n",
    "        self.create_training_method()\n",
    "        self.to(device)\n",
    "        \n",
    "    def forward(self, state):\n",
    "        x = F.relu(self.fc1(state))\n",
    "        self.state_action_value = self.fc2(x)\n",
    "        return self.state_action_value\n",
    "    \n",
    "    def create_training_network(self):\n",
    "        self.fc1 = nn.Linear(self.state_dim, 20)\n",
    "        self.fc2 = nn.Linear(20, self.action_dim)\n",
    "        \n",
    "    def create_training_method(self):\n",
    "        self.optimizer = optim.Adam(self.parameters(), lr=0.0001)\n",
    "        self.loss_cal = F.mse_loss\n",
    "        \n",
    "    def train_loop(self):\n",
    "        # self.eval()\n",
    "        minibatch = random.sample(self.replay_buffer, batch_size)\n",
    "        state_batch = [data[0] for data in minibatch]\n",
    "        action_batch = [data[1] for data in minibatch]\n",
    "        reward_batch = [data[2] for data in minibatch]\n",
    "        next_state_batch = [data[3] for data in minibatch]\n",
    "        done = [data[4] for data in minibatch]\n",
    "        \n",
    "        # Q(S,A) = Q(S,A) + alpha*(R+gamma*Qmax(S',a) - Q(S,A)) \n",
    "        with torch.no_grad():\n",
    "            Q_max_value_batch = torch.max(self(torch.tensor(np.stack(next_state_batch), device=device)), dim=1)[0] # Qmax(S',a)\n",
    "        action = torch.tensor(action_batch, device=device).unsqueeze(-1) # A\n",
    "        reward = torch.tensor(reward_batch, device=device) # R\n",
    "        done = torch.tensor(done, device=device)\n",
    "        y_batch = torch.where(done, reward, reward + GAMMA * Q_max_value_batch) # R+gamma*Qmax(S',a) 计算目标Q值\n",
    "        Q_batch = torch.gather(self(torch.tensor(np.stack(state_batch), device=device)), 1, action).squeeze(-1) # Q(S,A)\n",
    "        loss = self.loss_cal(Q_batch, y_batch)\n",
    "        self.optimizer.zero_grad()\n",
    "        loss.backward()\n",
    "        self.optimizer.step()\n",
    "        \n",
    "    def epsilon_greedy(self, state):\n",
    "        with torch.no_grad():\n",
    "            state = torch.from_numpy(state).to(device)\n",
    "            if random.random() > epsilon:\n",
    "                state_action_value = self(state)\n",
    "                action = torch.argmax(state_action_value).item()\n",
    "            else:\n",
    "                action = np.random.randint(0, 2)\n",
    "            # epsilon = epsilon - (start_epsilon - end_epsilon) / 10000\n",
    "            return action\n",
    "    \n",
    "    def action(self, state):\n",
    "        with torch.no_grad():\n",
    "            state = torch.from_numpy(state).to(device)\n",
    "            state_action_value = self(state)\n",
    "            return torch.argmax(state_action_value).item()\n",
    "    \n",
    "    def perceive(self, state, action, reward, next_state, done):\n",
    "        self.replay_buffer.append((state, action, reward, next_state, done))\n",
    "        if len(self.replay_buffer) > replay_size:\n",
    "            self.replay_buffer.popleft()\n",
    "            \n",
    "        if len(self.replay_buffer) > batch_size:\n",
    "            self.train_loop()"
   ]
  },
  {
   "cell_type": "code",
   "execution_count": 4,
   "id": "0a7589a0-7dfd-474f-8a82-99f35ca93790",
   "metadata": {},
   "outputs": [],
   "source": [
    "import gym\n",
    "env_name = \"CartPole-v1\"\n",
    "env = gym.make(env_name)\n",
    "agent = DQN(env)"
   ]
  },
  {
   "cell_type": "code",
   "execution_count": 5,
   "id": "64a3aef8-8ed8-4c37-94ee-49dd499acba5",
   "metadata": {},
   "outputs": [],
   "source": [
    "def main():\n",
    "    for episode in range(3000):\n",
    "        agent.train()\n",
    "        state, _ = env.reset()\n",
    "        for step in range(300):\n",
    "            action = agent.epsilon_greedy(state)\n",
    "            # action = epsilon_greedy(state_action_value)\n",
    "            # next_state, reward, done, _ = env.step(action)\n",
    "            next_state, reward, done, _, _ = env.step(action)\n",
    "            reward = -1 if done else 0.01\n",
    "            agent.perceive(state, action, reward, next_state, done)\n",
    "            if done:\n",
    "                break\n",
    "            state = next_state\n",
    "        \n",
    "        if episode % 100 == 0:\n",
    "            total_reward = 0\n",
    "            for i in range(10):\n",
    "                state, _ = env.reset()\n",
    "                for j in range(300):\n",
    "                    action = agent.action(state)\n",
    "                    next_state, reward, done, _, _ = env.step(action)\n",
    "                    total_reward += reward\n",
    "                    state = next_state\n",
    "                    if done:\n",
    "                        break\n",
    "            total_reward /= 10\n",
    "            print(f\"average reward is {total_reward}\")"
   ]
  },
  {
   "cell_type": "code",
   "execution_count": 6,
   "id": "bb4a2dd0-18f7-4fb3-8c11-43762c8c8ba7",
   "metadata": {},
   "outputs": [
    {
     "name": "stderr",
     "output_type": "stream",
     "text": [
      "/home/ygq/miniconda3/envs/dalle2/lib/python3.8/site-packages/gym/utils/passive_env_checker.py:233: DeprecationWarning: `np.bool8` is a deprecated alias for `np.bool_`.  (Deprecated NumPy 1.24)\n",
      "  if not isinstance(terminated, (bool, np.bool8)):\n"
     ]
    },
    {
     "name": "stdout",
     "output_type": "stream",
     "text": [
      "average reward is 9.1\n",
      "average reward is 17.1\n",
      "average reward is 51.1\n",
      "average reward is 167.3\n",
      "average reward is 194.2\n",
      "average reward is 299.1\n",
      "average reward is 294.9\n",
      "average reward is 294.5\n"
     ]
    },
    {
     "ename": "KeyboardInterrupt",
     "evalue": "",
     "output_type": "error",
     "traceback": [
      "\u001b[0;31m---------------------------------------------------------------------------\u001b[0m",
      "\u001b[0;31mKeyboardInterrupt\u001b[0m                         Traceback (most recent call last)",
      "Cell \u001b[0;32mIn[6], line 2\u001b[0m\n\u001b[1;32m      1\u001b[0m \u001b[38;5;28;01mif\u001b[39;00m \u001b[38;5;18m__name__\u001b[39m \u001b[38;5;241m==\u001b[39m \u001b[38;5;124m'\u001b[39m\u001b[38;5;124m__main__\u001b[39m\u001b[38;5;124m'\u001b[39m:\n\u001b[0;32m----> 2\u001b[0m     \u001b[43mmain\u001b[49m\u001b[43m(\u001b[49m\u001b[43m)\u001b[49m\n",
      "Cell \u001b[0;32mIn[5], line 11\u001b[0m, in \u001b[0;36mmain\u001b[0;34m()\u001b[0m\n\u001b[1;32m      9\u001b[0m next_state, reward, done, _, _ \u001b[38;5;241m=\u001b[39m env\u001b[38;5;241m.\u001b[39mstep(action)\n\u001b[1;32m     10\u001b[0m reward \u001b[38;5;241m=\u001b[39m \u001b[38;5;241m-\u001b[39m\u001b[38;5;241m1\u001b[39m \u001b[38;5;28;01mif\u001b[39;00m done \u001b[38;5;28;01melse\u001b[39;00m \u001b[38;5;241m0.01\u001b[39m\n\u001b[0;32m---> 11\u001b[0m \u001b[43magent\u001b[49m\u001b[38;5;241;43m.\u001b[39;49m\u001b[43mperceive\u001b[49m\u001b[43m(\u001b[49m\u001b[43mstate\u001b[49m\u001b[43m,\u001b[49m\u001b[43m \u001b[49m\u001b[43maction\u001b[49m\u001b[43m,\u001b[49m\u001b[43m \u001b[49m\u001b[43mreward\u001b[49m\u001b[43m,\u001b[49m\u001b[43m \u001b[49m\u001b[43mnext_state\u001b[49m\u001b[43m,\u001b[49m\u001b[43m \u001b[49m\u001b[43mdone\u001b[49m\u001b[43m)\u001b[49m\n\u001b[1;32m     12\u001b[0m \u001b[38;5;28;01mif\u001b[39;00m done:\n\u001b[1;32m     13\u001b[0m     \u001b[38;5;28;01mbreak\u001b[39;00m\n",
      "Cell \u001b[0;32mIn[3], line 69\u001b[0m, in \u001b[0;36mDQN.perceive\u001b[0;34m(self, state, action, reward, next_state, done)\u001b[0m\n\u001b[1;32m     66\u001b[0m     \u001b[38;5;28mself\u001b[39m\u001b[38;5;241m.\u001b[39mreplay_buffer\u001b[38;5;241m.\u001b[39mpopleft()\n\u001b[1;32m     68\u001b[0m \u001b[38;5;28;01mif\u001b[39;00m \u001b[38;5;28mlen\u001b[39m(\u001b[38;5;28mself\u001b[39m\u001b[38;5;241m.\u001b[39mreplay_buffer) \u001b[38;5;241m>\u001b[39m batch_size:\n\u001b[0;32m---> 69\u001b[0m     \u001b[38;5;28;43mself\u001b[39;49m\u001b[38;5;241;43m.\u001b[39;49m\u001b[43mtrain_loop\u001b[49m\u001b[43m(\u001b[49m\u001b[43m)\u001b[49m\n",
      "Cell \u001b[0;32mIn[3], line 38\u001b[0m, in \u001b[0;36mDQN.train_loop\u001b[0;34m(self)\u001b[0m\n\u001b[1;32m     36\u001b[0m action \u001b[38;5;241m=\u001b[39m torch\u001b[38;5;241m.\u001b[39mtensor(action_batch, device\u001b[38;5;241m=\u001b[39mdevice)\u001b[38;5;241m.\u001b[39munsqueeze(\u001b[38;5;241m-\u001b[39m\u001b[38;5;241m1\u001b[39m) \u001b[38;5;66;03m# A\u001b[39;00m\n\u001b[1;32m     37\u001b[0m reward \u001b[38;5;241m=\u001b[39m torch\u001b[38;5;241m.\u001b[39mtensor(reward_batch, device\u001b[38;5;241m=\u001b[39mdevice) \u001b[38;5;66;03m# R\u001b[39;00m\n\u001b[0;32m---> 38\u001b[0m done \u001b[38;5;241m=\u001b[39m \u001b[43mtorch\u001b[49m\u001b[38;5;241;43m.\u001b[39;49m\u001b[43mtensor\u001b[49m\u001b[43m(\u001b[49m\u001b[43mdone\u001b[49m\u001b[43m,\u001b[49m\u001b[43m \u001b[49m\u001b[43mdevice\u001b[49m\u001b[38;5;241;43m=\u001b[39;49m\u001b[43mdevice\u001b[49m\u001b[43m)\u001b[49m\n\u001b[1;32m     39\u001b[0m y_batch \u001b[38;5;241m=\u001b[39m torch\u001b[38;5;241m.\u001b[39mwhere(done, reward, reward \u001b[38;5;241m+\u001b[39m GAMMA \u001b[38;5;241m*\u001b[39m Q_max_value_batch) \u001b[38;5;66;03m# R+gamma*Qmax(S',a) \u001b[39;00m\n\u001b[1;32m     40\u001b[0m Q_batch \u001b[38;5;241m=\u001b[39m torch\u001b[38;5;241m.\u001b[39mgather(\u001b[38;5;28mself\u001b[39m(torch\u001b[38;5;241m.\u001b[39mtensor(np\u001b[38;5;241m.\u001b[39mstack(state_batch), device\u001b[38;5;241m=\u001b[39mdevice)), \u001b[38;5;241m1\u001b[39m, action)\u001b[38;5;241m.\u001b[39msqueeze(\u001b[38;5;241m-\u001b[39m\u001b[38;5;241m1\u001b[39m) \u001b[38;5;66;03m# Q(S,A)\u001b[39;00m\n",
      "\u001b[0;31mKeyboardInterrupt\u001b[0m: "
     ]
    }
   ],
   "source": [
    "if __name__ == '__main__':\n",
    "    main()"
   ]
  }
 ],
 "metadata": {
  "kernelspec": {
   "display_name": "dalle2",
   "language": "python",
   "name": "dalle2"
  },
  "language_info": {
   "codemirror_mode": {
    "name": "ipython",
    "version": 3
   },
   "file_extension": ".py",
   "mimetype": "text/x-python",
   "name": "python",
   "nbconvert_exporter": "python",
   "pygments_lexer": "ipython3",
   "version": "3.8.15"
  }
 },
 "nbformat": 4,
 "nbformat_minor": 5
}
