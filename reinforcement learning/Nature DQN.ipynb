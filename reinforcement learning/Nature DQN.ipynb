{
 "cells": [
  {
   "cell_type": "markdown",
   "id": "aa26fef5-e546-45e2-ab30-4132ffad082a",
   "metadata": {},
   "source": [
    "# **一个NatureDQN算法的简单实现**\n",
    "## **算法概述**\n",
    "- 普通DQN算法的改进版\n",
    "- 使用了两个网络，目标网络和策略网络\n",
    "    - 目标网络用于提供策略网络需要学习的Q值目标(Qmax(S',a))，策略网络则用于学习更新\n",
    "    - 两个网络的结构完全相同，目标网络参数固定，每隔X步将策略网络的参数更新到目标网络\n",
    "- 传统DQN使用单个网络进行价值评估和网络参数更新，这会两者之间的相关性过强，不利于算法收敛；使用两个网络来解耦这种关联性\n",
    "- off-policy算法，value-based算法\n",
    "\n",
    "论文链接：*https://docs.popo.netease.com/docs/cbb9344e20ca49578e9d107a26c2ba17*"
   ]
  },
  {
   "cell_type": "code",
   "execution_count": 1,
   "id": "402bae51-162e-49d0-ad6e-3e6c5bc76131",
   "metadata": {},
   "outputs": [],
   "source": [
    "import torch\n",
    "import random\n",
    "import numpy as np\n",
    "import torch.nn as nn\n",
    "import torch.optim as optim\n",
    "import torch.nn.functional as F\n",
    "from collections import deque\n",
    "import copy"
   ]
  },
  {
   "cell_type": "code",
   "execution_count": 2,
   "id": "2d82ad45-6356-44d0-8d61-6b4315126cf9",
   "metadata": {},
   "outputs": [],
   "source": [
    "GAMMA = 0.9\n",
    "epsilon = 0.5\n",
    "start_epsilon = 0.5\n",
    "end_epsilon = 0.01\n",
    "replay_size = 10000\n",
    "batch_size = 32\n",
    "device = torch.device(\"cuda\" if torch.cuda.is_available() else \"cpu\")"
   ]
  },
  {
   "cell_type": "code",
   "execution_count": 3,
   "id": "5708c5a2-2eef-4d7f-941b-80698a2d3971",
   "metadata": {},
   "outputs": [],
   "source": [
    "class NatureDQN(nn.Module):\n",
    "    def __init__(self, env):\n",
    "        super(NatureDQN, self).__init__()\n",
    "        self.replay_buffer = deque()\n",
    "        self.state_dim = env.observation_space.shape[0]\n",
    "        self.action_dim = env.action_space.n\n",
    "        self.create_training_network()\n",
    "        self.create_training_method()\n",
    "        self.to(device)\n",
    "        \n",
    "    def forward(self, state):\n",
    "        x = F.relu(self.fc1(state))\n",
    "        self.state_action_value = self.fc2(x)\n",
    "        return self.state_action_value\n",
    "    \n",
    "    def create_training_network(self):\n",
    "        self.fc1 = nn.Linear(self.state_dim, 20)\n",
    "        self.fc2 = nn.Linear(20, self.action_dim)\n",
    "        \n",
    "    def create_training_method(self):\n",
    "        self.optimizer = optim.Adam(self.parameters(), lr=0.0001)\n",
    "        self.loss_cal = F.mse_loss\n",
    "        \n",
    "    def get_target_network(self, target_network):\n",
    "        self.target_network = target_network\n",
    "        \n",
    "    def train_loop(self):\n",
    "        # self.eval()\n",
    "        minibatch = random.sample(self.replay_buffer, batch_size)\n",
    "        state_batch = [data[0] for data in minibatch]\n",
    "        action_batch = [data[1] for data in minibatch]\n",
    "        reward_batch = [data[2] for data in minibatch]\n",
    "        next_state_batch = [data[3] for data in minibatch]\n",
    "        done = [data[4] for data in minibatch]\n",
    "        \n",
    "        # Q(S,A) = Q(S,A) + alpha*(R+gamma*Qmax(S',a) - Q(S,A)) \n",
    "        with torch.no_grad():\n",
    "            Q_max_value_batch = torch.max(self.target_network(torch.tensor(np.stack(next_state_batch), device=device)), dim=1)[0] # 从目标网络中得到最大的Q值\n",
    "        action = torch.tensor(action_batch, device=device).unsqueeze(-1) \n",
    "        reward = torch.tensor(reward_batch, device=device) # \n",
    "        done = torch.tensor(done, device=device)\n",
    "        y_batch = torch.where(done, reward, reward + GAMMA * Q_max_value_batch) # 根据目标网络输出的最大Q值计算目标Q值\n",
    "        Q_batch = torch.gather(self(torch.tensor(np.stack(state_batch), device=device)), 1, action).squeeze(-1)\n",
    "        loss = self.loss_cal(Q_batch, y_batch)\n",
    "        self.optimizer.zero_grad()\n",
    "        loss.backward()\n",
    "        self.optimizer.step()\n",
    "        \n",
    "    def epsilon_greedy(self, state):\n",
    "        with torch.no_grad():\n",
    "            state = torch.from_numpy(state).to(device)\n",
    "            if random.random() > epsilon:\n",
    "                state_action_value = self(state)\n",
    "                action = torch.argmax(state_action_value).item()\n",
    "            else:\n",
    "                action = np.random.randint(0, 2)\n",
    "            # epsilon = epsilon - (start_epsilon - end_epsilon) / 10000\n",
    "            return action\n",
    "    \n",
    "    def action(self, state):\n",
    "        with torch.no_grad():\n",
    "            state = torch.from_numpy(state).to(device)\n",
    "            state_action_value = self(state)\n",
    "            return torch.argmax(state_action_value).item()\n",
    "    \n",
    "    def perceive(self, state, action, reward, next_state, done):\n",
    "        self.replay_buffer.append((state, action, reward, next_state, done))\n",
    "        if len(self.replay_buffer) > replay_size:\n",
    "            self.replay_buffer.popleft()\n",
    "            \n",
    "        if len(self.replay_buffer) > batch_size:\n",
    "            self.train_loop()\n",
    "            \n",
    "    def update_target_network(self):\n",
    "        self.target_network.load_state_dict(self.state_dict(),strict=False)"
   ]
  },
  {
   "cell_type": "code",
   "execution_count": 4,
   "id": "b7174c7d-8aa0-49d2-a069-7eaee4981fe5",
   "metadata": {},
   "outputs": [],
   "source": [
    "import gym\n",
    "env_name = \"CartPole-v1\"\n",
    "env = gym.make(env_name)\n",
    "agent = NatureDQN(env)\n",
    "agent.train()\n",
    "\n",
    "target_network = NatureDQN(env)\n",
    "agent.get_target_network(target_network)"
   ]
  },
  {
   "cell_type": "code",
   "execution_count": 5,
   "id": "c03f4d2b-6817-4ab8-a312-955123762c66",
   "metadata": {},
   "outputs": [],
   "source": [
    "def main():\n",
    "    for episode in range(3000):\n",
    "        print(f\"trainging episode {episode}\")\n",
    "        state, _ = env.reset()\n",
    "        for step in range(300):\n",
    "            action = agent.epsilon_greedy(state)\n",
    "            # action = epsilon_greedy(state_action_value)\n",
    "            # next_state, reward, done, _ = env.step(action)\n",
    "            next_state, reward, done, _, _ = env.step(action)\n",
    "            reward = -1 if done else 0.01\n",
    "            agent.perceive(state, action, reward, next_state, done)\n",
    "            if done:\n",
    "                break\n",
    "            state = next_state\n",
    "        if episode % 100 == 0:\n",
    "            total_reward = 0\n",
    "            for i in range(10):\n",
    "                state, _ = env.reset()\n",
    "                for j in range(300):\n",
    "                    action = agent.action(state)\n",
    "                    next_state, reward, done, _, _ = env.step(action)\n",
    "                    total_reward += reward\n",
    "                    state = next_state\n",
    "                    if done:\n",
    "                        break\n",
    "            total_reward /= 10\n",
    "            print(f\"average reward is {total_reward}\")\n",
    "        if episode % 100 == 0 and episode != 0:\n",
    "            agent.update_target_network()"
   ]
  },
  {
   "cell_type": "code",
   "execution_count": 6,
   "id": "cd8bb654-049b-4f8e-8a4d-ae80bfb555f0",
   "metadata": {},
   "outputs": [
    {
     "name": "stdout",
     "output_type": "stream",
     "text": [
      "trainging episode 0\n"
     ]
    },
    {
     "ename": "UnboundLocalError",
     "evalue": "local variable 'epsilon' referenced before assignment",
     "output_type": "error",
     "traceback": [
      "\u001b[0;31m---------------------------------------------------------------------------\u001b[0m",
      "\u001b[0;31mUnboundLocalError\u001b[0m                         Traceback (most recent call last)",
      "Cell \u001b[0;32mIn[6], line 2\u001b[0m\n\u001b[1;32m      1\u001b[0m \u001b[38;5;28;01mif\u001b[39;00m \u001b[38;5;18m__name__\u001b[39m \u001b[38;5;241m==\u001b[39m \u001b[38;5;124m'\u001b[39m\u001b[38;5;124m__main__\u001b[39m\u001b[38;5;124m'\u001b[39m:\n\u001b[0;32m----> 2\u001b[0m     \u001b[43mmain\u001b[49m\u001b[43m(\u001b[49m\u001b[43m)\u001b[49m\n",
      "Cell \u001b[0;32mIn[5], line 6\u001b[0m, in \u001b[0;36mmain\u001b[0;34m()\u001b[0m\n\u001b[1;32m      4\u001b[0m state, _ \u001b[38;5;241m=\u001b[39m env\u001b[38;5;241m.\u001b[39mreset()\n\u001b[1;32m      5\u001b[0m \u001b[38;5;28;01mfor\u001b[39;00m step \u001b[38;5;129;01min\u001b[39;00m \u001b[38;5;28mrange\u001b[39m(\u001b[38;5;241m300\u001b[39m):\n\u001b[0;32m----> 6\u001b[0m     action \u001b[38;5;241m=\u001b[39m \u001b[43magent\u001b[49m\u001b[38;5;241;43m.\u001b[39;49m\u001b[43mepsilon_greedy\u001b[49m\u001b[43m(\u001b[49m\u001b[43mstate\u001b[49m\u001b[43m)\u001b[49m\n\u001b[1;32m      7\u001b[0m     \u001b[38;5;66;03m# action = epsilon_greedy(state_action_value)\u001b[39;00m\n\u001b[1;32m      8\u001b[0m     \u001b[38;5;66;03m# next_state, reward, done, _ = env.step(action)\u001b[39;00m\n\u001b[1;32m      9\u001b[0m     next_state, reward, done, _, _ \u001b[38;5;241m=\u001b[39m env\u001b[38;5;241m.\u001b[39mstep(action)\n",
      "Cell \u001b[0;32mIn[3], line 52\u001b[0m, in \u001b[0;36mNatureDQN.epsilon_greedy\u001b[0;34m(self, state)\u001b[0m\n\u001b[1;32m     50\u001b[0m \u001b[38;5;28;01mwith\u001b[39;00m torch\u001b[38;5;241m.\u001b[39mno_grad():\n\u001b[1;32m     51\u001b[0m     state \u001b[38;5;241m=\u001b[39m torch\u001b[38;5;241m.\u001b[39mfrom_numpy(state)\u001b[38;5;241m.\u001b[39mto(device)\n\u001b[0;32m---> 52\u001b[0m     \u001b[38;5;28;01mif\u001b[39;00m random\u001b[38;5;241m.\u001b[39mrandom() \u001b[38;5;241m>\u001b[39m \u001b[43mepsilon\u001b[49m:\n\u001b[1;32m     53\u001b[0m         state_action_value \u001b[38;5;241m=\u001b[39m \u001b[38;5;28mself\u001b[39m(state)\n\u001b[1;32m     54\u001b[0m         action \u001b[38;5;241m=\u001b[39m torch\u001b[38;5;241m.\u001b[39margmax(state_action_value)\u001b[38;5;241m.\u001b[39mitem()\n",
      "\u001b[0;31mUnboundLocalError\u001b[0m: local variable 'epsilon' referenced before assignment"
     ]
    }
   ],
   "source": [
    "if __name__ == '__main__':\n",
    "    main()"
   ]
  }
 ],
 "metadata": {
  "kernelspec": {
   "display_name": "dalle2",
   "language": "python",
   "name": "dalle2"
  },
  "language_info": {
   "codemirror_mode": {
    "name": "ipython",
    "version": 3
   },
   "file_extension": ".py",
   "mimetype": "text/x-python",
   "name": "python",
   "nbconvert_exporter": "python",
   "pygments_lexer": "ipython3",
   "version": "3.8.15"
  }
 },
 "nbformat": 4,
 "nbformat_minor": 5
}
