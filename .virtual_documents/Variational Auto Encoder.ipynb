import torch
from typing import List, Callable, Union, Any, TypeVar, Tuple
# from torch import tensor as Tensor

Tensor = TypeVar('torch.tensor')

device = 0 if torch.cuda.is_available else "cpu"
# device = "cpu"
# dataset_name = "mnist"
dataset_name = "fashion_mnist" # 一个时装数据集，以灰度图的形式保存了各种时装的照片


from torch import nn
from abc import abstractmethod

class BaseVAE(nn.Module):
    
    def __init__(self) -> None:
        super(BaseVAE, self).__init__()

    def encode(self, input: Tensor) -> List[Tensor]:
        raise NotImplementedError

    def decode(self, input: Tensor) -> Any:
        raise NotImplementedError

    def sample(self, batch_size:int, current_device: int, **kwargs) -> Tensor:
        raise NotImplementedError

    def generate(self, x: Tensor, **kwargs) -> Tensor:
        raise NotImplementedError

    @abstractmethod
    def forward(self, *inputs: Tensor) -> Tensor:
        pass

    @abstractmethod
    def loss_function(self, *inputs: Any, **kwargs) -> Tensor:
        pass


import torch
import torch.nn as nn
from torch.nn import functional as F


class BetaVAE(BaseVAE):
    def __init__(self,
                 in_channels: int,
                 latent_dim: int,
                 hidden_dims: List = None,
                 beta: int = 6,
                 gamma:float = 1000.,
                 max_capacity: int = 25,
                 Capacity_max_iter: int = 1e5,
                 loss_type:str = 'B',
                 **kwargs) -> None:
        super(BetaVAE, self).__init__()

        self.latent_dim = latent_dim
        self.beta = beta
        self.gamma = gamma
        self.loss_type = loss_type
        self.C_max = torch.Tensor([max_capacity])
        self.C_stop_iter = Capacity_max_iter
        
        modules = []
        hidden_dims = [32, 64, 128, 256]
        # Build Encoder
        for h_dim in hidden_dims:
            modules.append(
                nn.Sequential(
                    nn.Conv2d(in_channels,out_channels=h_dim,
                             kernel_size=3,stride=2,padding=1),
                    nn.BatchNorm2d(h_dim),
                    nn.LeakyReLU())
            )
            in_channels = h_dim
            
        self.encoder = nn.Sequential(*modules)
        self.fc_mu = nn.Linear(hidden_dims[-1]*4, latent_dim)
        self.fc_var = nn.Linear(hidden_dims[-1]*4, latent_dim)
        
        # Build Decoder
        modules = []
        self.decoder_input = nn.Linear(latent_dim, hidden_dims[-1]*4)
        hidden_dims.reverse()

        for i in range(len(hidden_dims)-1):
            modules.append(
                nn.Sequential(
                    nn.ConvTranspose2d(hidden_dims[i],hidden_dims[i+1],
                                      kernel_size=3,stride=2,padding=1,
                                      output_padding=1),
                    nn.BatchNorm2d(hidden_dims[i+1]),
                    nn.LeakyReLU())
                )
        self.decoder = nn.Sequential(*modules)
        
        # Build final layer
        self.final_layer = nn.Sequential(nn.ConvTranspose2d(hidden_dims[-1],
                                                      hidden_dims[-1],
                                                      kernel_size=3,
                                                      stride=2,
                                                      padding=1,
                                                      output_padding=1),
                                   nn.BatchNorm2d(hidden_dims[-1]),
                                   nn.LeakyReLU(),
                                   nn.Conv2d(hidden_dims[-1],out_channels=1,
                                            kernel_size=3,padding=1),
                                   nn.Tanh())
        
    def encode(self, input):
        result = self.encoder(input)
        result = torch.flatten(result,start_dim=1)
        mu = self.fc_mu(result)
        log_var = self.fc_var(result)
        
        return [mu, log_var]
    
    def decode(self, z):
        result = self.decoder_input(z)
        result = result.view(-1,256,2,2)
        result = self.decoder(result)
        result = self.final_layer(result)
        return result
    
    def reparameterize(self, mu, logvar):
        std = torch.exp(0.5 * logvar)
        eps = torch.randn_like(logvar)
        return eps*std + mu
    
    def forward(self, input, **kwargs):
        mu, logvar = self.encode(input)
        z = self.reparameterize(mu, logvar)
        result = self.decode(z)
        return [result, input, mu, logvar]
    
    def loss_calculate(self,*args,**kwargs):
        
        recons = args[0]
        input = args[1]
        mu = args[2]
        log_var = args[3]
        kld_weight = 0.00025
        recons_loss = F.mse_loss(recons, input)
        kld_loss = torch.mean(-0.5 * torch.sum(1+log_var - log_var.exp() - mu ** 2, dim=1),dim=0)
        loss = recons_loss + self.beta * kld_weight * kld_loss
        
        return {'loss': loss, 'Reconstruction_Loss':recons_loss, 'KLD':kld_loss}
    
    @torch.no_grad()
    def sample(self, num_samples):
        z = torch.randn(num_samples, self.latent_dim)
        z = z.to(device)
        
        samples = self.decode(z)
        samples = samples.cpu().numpy()
        return samples


import torch
import torchvision
from torch.utils.data import DataLoader



batch_size_train = 32


from torchvision import transforms
from torch.utils.data import DataLoader
from datasets import load_dataset
from torchvision.transforms import Compose


dataset = load_dataset(dataset_name)

transform = Compose([
    transforms.RandomHorizontalFlip(),
    transforms.Resize((32,32)),
    transforms.ToTensor(),
    transforms.Lambda(lambda t:(t*2) - 1)
])

def transforms_(examples):
    examples["pixel_values"] = [transform(image.convert("L")) for image in examples["image"]]
    del examples["image"]
    return examples

transformed_dataset = dataset.with_transform(transforms_).remove_columns("label")

dataloader = DataLoader(transformed_dataset["train"], batch_size=batch_size_train, shuffle=True)


import torch.optim as optim
vae_model = BetaVAE(1,128)
vae_model.to(device)
optimizer = optim.Adam(vae_model.parameters(), lr=0.005)


def train(epoch):
    loss_sum_in_one_batch = 0
    batch_count = 0
    for batch_idx, batch in enumerate(dataloader):
        optimizer.zero_grad()
        data = batch["pixel_values"].to(device)
        result = vae_model(data)
        loss_dict = vae_model.loss_calculate(*result, M_N=None)
        loss_dict['loss'].backward()
        optimizer.step()
        loss_sum_in_one_batch += loss_dict['loss'].item()
        batch_count += 1
        if batch_count % 100 == 0:
            print(f"epoch {epoch} batch count {batch_count} , avg loss is {loss_sum_in_one_batch / batch_count}")



import matplotlib.pyplot as plt
def generate_image(images):
    image = images[0,0,:,:]
    plt.imshow(image, cmap='gray')
    plt.show()


vae_model.train()
for i in range(10):
    train(i+1)
    generate_image(vae_model.sample(1))
torch.save(vae_model.state_dict(),"./model.pt")


from datasets import load_dataset
from torchvision.transforms import ToTensor

to_tensor = ToTensor()
dataset = load_dataset("mnist")
def transforms_(examples):
    examples["pixel_values"] = [to_tensor(image.convert("L")) for image in examples["image"]]
    del examples["image"]
    return examples
dataset_withtransformed = dataset.with_transform(transforms_)
print(dataset_withtransformed)


from torch.utils.data import DataLoader
dataloader = DataLoader(dataset_withtransformed['train'], batch_size=32, shuffle=True)
print(type(dataset_withtransformed['train'][0]))


import torch
a = torch.Tensor([1,1,1])
print(a.shape[0])
sum(a).item()



